{
 "cells": [
  {
   "cell_type": "markdown",
   "metadata": {},
   "source": [
    "- **Deposit과 Default 간의 연관성 가설**:\n",
    "\n",
    "    - 더 많은 금액의 예금을 가진 고객은 채무를 이행하는 경향이 더 높을 것이다.\n",
    "        \n",
    "        ↔ 예금이 적은 고객은 금전적 여유가 적을 가능성이 있고, 이로 인해 대출 채무를 이행하는 데 어려움을 겪을 수 있다.\n",
    "        \n",
    "    - 예금의 기간이 길수록 채무 이행하는 경향이 높을 것이다."
   ]
  },
  {
   "cell_type": "code",
   "execution_count": 1,
   "metadata": {},
   "outputs": [],
   "source": [
    "import os, glob\n",
    "import pandas as pd\n",
    "import polars as pl\n",
    "import numpy as np\n",
    "import matplotlib.pyplot as plt\n",
    "import seaborn as sns\n",
    "from pathlib import Path\n",
    "\n",
    "PATH_DATASET = Path(\"../data\")\n",
    "PATH_PARQUETS = PATH_DATASET / \"parquet_files\"\n",
    "PARQUETS_TRAIN = PATH_PARQUETS / \"train\"\n",
    "PARQUETS_TEST = PATH_PARQUETS / \"test\""
   ]
  },
  {
   "cell_type": "code",
   "execution_count": 2,
   "metadata": {},
   "outputs": [],
   "source": [
    "base = pl.read_parquet(PARQUETS_TRAIN / 'train_base.parquet')\n",
    "df = pl.read_parquet(PARQUETS_TRAIN / 'train_deposit_1.parquet')"
   ]
  },
  {
   "cell_type": "code",
   "execution_count": 3,
   "metadata": {},
   "outputs": [],
   "source": [
    "df = df.select(pl.exclude('num_group1'))\n",
    "df = df.with_columns(pl.col('contractenddate_991D', 'openingdate_313D').str.to_datetime().dt.date())"
   ]
  },
  {
   "cell_type": "code",
   "execution_count": 4,
   "metadata": {},
   "outputs": [
    {
     "data": {
      "text/html": [
       "<div><style>\n",
       ".dataframe > thead > tr,\n",
       ".dataframe > tbody > tr {\n",
       "  text-align: right;\n",
       "  white-space: pre-wrap;\n",
       "}\n",
       "</style>\n",
       "<small>shape: (1, 4)</small><table border=\"1\" class=\"dataframe\"><thead><tr><th>case_id</th><th>amount_416A</th><th>contractenddate_991D</th><th>openingdate_313D</th></tr><tr><td>u32</td><td>u32</td><td>u32</td><td>u32</td></tr></thead><tbody><tr><td>0</td><td>0</td><td>79682</td><td>0</td></tr></tbody></table></div>"
      ],
      "text/plain": [
       "shape: (1, 4)\n",
       "┌─────────┬─────────────┬──────────────────────┬──────────────────┐\n",
       "│ case_id ┆ amount_416A ┆ contractenddate_991D ┆ openingdate_313D │\n",
       "│ ---     ┆ ---         ┆ ---                  ┆ ---              │\n",
       "│ u32     ┆ u32         ┆ u32                  ┆ u32              │\n",
       "╞═════════╪═════════════╪══════════════════════╪══════════════════╡\n",
       "│ 0       ┆ 0           ┆ 79682                ┆ 0                │\n",
       "└─────────┴─────────────┴──────────────────────┴──────────────────┘"
      ]
     },
     "execution_count": 4,
     "metadata": {},
     "output_type": "execute_result"
    }
   ],
   "source": [
    "df.null_count()"
   ]
  },
  {
   "cell_type": "code",
   "execution_count": 5,
   "metadata": {},
   "outputs": [
    {
     "data": {
      "text/html": [
       "<div><style>\n",
       ".dataframe > thead > tr,\n",
       ".dataframe > tbody > tr {\n",
       "  text-align: right;\n",
       "  white-space: pre-wrap;\n",
       "}\n",
       "</style>\n",
       "<small>shape: (9, 6)</small><table border=\"1\" class=\"dataframe\"><thead><tr><th>statistic</th><th>case_id</th><th>date_decision</th><th>MONTH</th><th>WEEK_NUM</th><th>target</th></tr><tr><td>str</td><td>f64</td><td>str</td><td>f64</td><td>f64</td><td>f64</td></tr></thead><tbody><tr><td>&quot;count&quot;</td><td>1.526659e6</td><td>&quot;1526659&quot;</td><td>1.526659e6</td><td>1.526659e6</td><td>1.526659e6</td></tr><tr><td>&quot;null_count&quot;</td><td>0.0</td><td>&quot;0&quot;</td><td>0.0</td><td>0.0</td><td>0.0</td></tr><tr><td>&quot;mean&quot;</td><td>1.2861e6</td><td>null</td><td>201936.287982</td><td>40.769036</td><td>0.031437</td></tr><tr><td>&quot;std&quot;</td><td>718946.592285</td><td>null</td><td>44.735975</td><td>23.797981</td><td>0.174496</td></tr><tr><td>&quot;min&quot;</td><td>0.0</td><td>&quot;2019-01-01&quot;</td><td>201901.0</td><td>0.0</td><td>0.0</td></tr><tr><td>&quot;25%&quot;</td><td>766198.0</td><td>null</td><td>201906.0</td><td>23.0</td><td>0.0</td></tr><tr><td>&quot;50%&quot;</td><td>1.357358e6</td><td>null</td><td>201910.0</td><td>40.0</td><td>0.0</td></tr><tr><td>&quot;75%&quot;</td><td>1.739023e6</td><td>null</td><td>202001.0</td><td>55.0</td><td>0.0</td></tr><tr><td>&quot;max&quot;</td><td>2.703454e6</td><td>&quot;2020-10-05&quot;</td><td>202010.0</td><td>91.0</td><td>1.0</td></tr></tbody></table></div>"
      ],
      "text/plain": [
       "shape: (9, 6)\n",
       "┌────────────┬───────────────┬───────────────┬───────────────┬────────────┬────────────┐\n",
       "│ statistic  ┆ case_id       ┆ date_decision ┆ MONTH         ┆ WEEK_NUM   ┆ target     │\n",
       "│ ---        ┆ ---           ┆ ---           ┆ ---           ┆ ---        ┆ ---        │\n",
       "│ str        ┆ f64           ┆ str           ┆ f64           ┆ f64        ┆ f64        │\n",
       "╞════════════╪═══════════════╪═══════════════╪═══════════════╪════════════╪════════════╡\n",
       "│ count      ┆ 1.526659e6    ┆ 1526659       ┆ 1.526659e6    ┆ 1.526659e6 ┆ 1.526659e6 │\n",
       "│ null_count ┆ 0.0           ┆ 0             ┆ 0.0           ┆ 0.0        ┆ 0.0        │\n",
       "│ mean       ┆ 1.2861e6      ┆ null          ┆ 201936.287982 ┆ 40.769036  ┆ 0.031437   │\n",
       "│ std        ┆ 718946.592285 ┆ null          ┆ 44.735975     ┆ 23.797981  ┆ 0.174496   │\n",
       "│ min        ┆ 0.0           ┆ 2019-01-01    ┆ 201901.0      ┆ 0.0        ┆ 0.0        │\n",
       "│ 25%        ┆ 766198.0      ┆ null          ┆ 201906.0      ┆ 23.0       ┆ 0.0        │\n",
       "│ 50%        ┆ 1.357358e6    ┆ null          ┆ 201910.0      ┆ 40.0       ┆ 0.0        │\n",
       "│ 75%        ┆ 1.739023e6    ┆ null          ┆ 202001.0      ┆ 55.0       ┆ 0.0        │\n",
       "│ max        ┆ 2.703454e6    ┆ 2020-10-05    ┆ 202010.0      ┆ 91.0       ┆ 1.0        │\n",
       "└────────────┴───────────────┴───────────────┴───────────────┴────────────┴────────────┘"
      ]
     },
     "execution_count": 5,
     "metadata": {},
     "output_type": "execute_result"
    }
   ],
   "source": [
    "base.describe()"
   ]
  },
  {
   "cell_type": "markdown",
   "metadata": {},
   "source": [
    "- `amount_416A`: Deposit amount.\n",
    "- `contractenddate_991D`: 계약 종료일\n",
    "- `openingdate_313D`: deposit 시작일"
   ]
  },
  {
   "cell_type": "markdown",
   "metadata": {},
   "source": [
    "-> contractenddate_991D 데이터가 null 인경우 예금 / 있는 경우 저축으로 분류 가능?"
   ]
  },
  {
   "cell_type": "code",
   "execution_count": 6,
   "metadata": {},
   "outputs": [
    {
     "data": {
      "text/html": [
       "<div><style>\n",
       ".dataframe > thead > tr,\n",
       ".dataframe > tbody > tr {\n",
       "  text-align: right;\n",
       "  white-space: pre-wrap;\n",
       "}\n",
       "</style>\n",
       "<small>shape: (5, 5)</small><table border=\"1\" class=\"dataframe\"><thead><tr><th>case_id</th><th>amount_416A</th><th>contractenddate_991D</th><th>openingdate_313D</th><th>saving</th></tr><tr><td>i64</td><td>f64</td><td>date</td><td>date</td><td>bool</td></tr></thead><tbody><tr><td>225</td><td>0.0</td><td>null</td><td>2016-08-16</td><td>false</td></tr><tr><td>331</td><td>260.374</td><td>2018-03-18</td><td>2015-03-19</td><td>true</td></tr><tr><td>358</td><td>0.0</td><td>null</td><td>2014-09-02</td><td>false</td></tr><tr><td>390</td><td>211748.53</td><td>2017-07-22</td><td>2014-07-23</td><td>true</td></tr><tr><td>390</td><td>223.68001</td><td>null</td><td>2016-06-08</td><td>false</td></tr></tbody></table></div>"
      ],
      "text/plain": [
       "shape: (5, 5)\n",
       "┌─────────┬─────────────┬──────────────────────┬──────────────────┬────────┐\n",
       "│ case_id ┆ amount_416A ┆ contractenddate_991D ┆ openingdate_313D ┆ saving │\n",
       "│ ---     ┆ ---         ┆ ---                  ┆ ---              ┆ ---    │\n",
       "│ i64     ┆ f64         ┆ date                 ┆ date             ┆ bool   │\n",
       "╞═════════╪═════════════╪══════════════════════╪══════════════════╪════════╡\n",
       "│ 225     ┆ 0.0         ┆ null                 ┆ 2016-08-16       ┆ false  │\n",
       "│ 331     ┆ 260.374     ┆ 2018-03-18           ┆ 2015-03-19       ┆ true   │\n",
       "│ 358     ┆ 0.0         ┆ null                 ┆ 2014-09-02       ┆ false  │\n",
       "│ 390     ┆ 211748.53   ┆ 2017-07-22           ┆ 2014-07-23       ┆ true   │\n",
       "│ 390     ┆ 223.68001   ┆ null                 ┆ 2016-06-08       ┆ false  │\n",
       "└─────────┴─────────────┴──────────────────────┴──────────────────┴────────┘"
      ]
     },
     "execution_count": 6,
     "metadata": {},
     "output_type": "execute_result"
    }
   ],
   "source": [
    "# saving - 저축 유무\n",
    "df = df.with_columns(pl.col('contractenddate_991D').is_not_null().alias('saving'))\n",
    "df.head()"
   ]
  },
  {
   "cell_type": "code",
   "execution_count": 7,
   "metadata": {},
   "outputs": [
    {
     "data": {
      "text/html": [
       "<div><style>\n",
       ".dataframe > thead > tr,\n",
       ".dataframe > tbody > tr {\n",
       "  text-align: right;\n",
       "  white-space: pre-wrap;\n",
       "}\n",
       "</style>\n",
       "<small>shape: (9, 6)</small><table border=\"1\" class=\"dataframe\"><thead><tr><th>statistic</th><th>case_id</th><th>amount_416A</th><th>contractenddate_991D</th><th>openingdate_313D</th><th>saving</th></tr><tr><td>str</td><td>f64</td><td>f64</td><td>str</td><td>str</td><td>f64</td></tr></thead><tbody><tr><td>&quot;count&quot;</td><td>145086.0</td><td>145086.0</td><td>&quot;65404&quot;</td><td>&quot;145086&quot;</td><td>145086.0</td></tr><tr><td>&quot;null_count&quot;</td><td>0.0</td><td>0.0</td><td>&quot;79682&quot;</td><td>&quot;0&quot;</td><td>0.0</td></tr><tr><td>&quot;mean&quot;</td><td>1.4662e6</td><td>8422.304482</td><td>&quot;2018-01-18&quot;</td><td>&quot;2015-06-13&quot;</td><td>0.450795</td></tr><tr><td>&quot;std&quot;</td><td>886528.958911</td><td>86232.120476</td><td>null</td><td>null</td><td>null</td></tr><tr><td>&quot;min&quot;</td><td>225.0</td><td>-40000.0</td><td>&quot;2002-02-27&quot;</td><td>&quot;2001-11-19&quot;</td><td>0.0</td></tr><tr><td>&quot;25%&quot;</td><td>660041.0</td><td>0.0</td><td>&quot;2017-09-30&quot;</td><td>&quot;2014-07-03&quot;</td><td>null</td></tr><tr><td>&quot;50%&quot;</td><td>1.556939e6</td><td>223.658</td><td>&quot;2018-01-21&quot;</td><td>&quot;2015-06-22&quot;</td><td>null</td></tr><tr><td>&quot;75%&quot;</td><td>2.530539e6</td><td>478.34</td><td>&quot;2018-06-25&quot;</td><td>&quot;2016-04-27&quot;</td><td>null</td></tr><tr><td>&quot;max&quot;</td><td>2.703453e6</td><td>1.2213286e7</td><td>&quot;2020-03-18&quot;</td><td>&quot;2017-07-31&quot;</td><td>1.0</td></tr></tbody></table></div>"
      ],
      "text/plain": [
       "shape: (9, 6)\n",
       "┌────────────┬───────────────┬──────────────┬──────────────────────┬──────────────────┬──────────┐\n",
       "│ statistic  ┆ case_id       ┆ amount_416A  ┆ contractenddate_991D ┆ openingdate_313D ┆ saving   │\n",
       "│ ---        ┆ ---           ┆ ---          ┆ ---                  ┆ ---              ┆ ---      │\n",
       "│ str        ┆ f64           ┆ f64          ┆ str                  ┆ str              ┆ f64      │\n",
       "╞════════════╪═══════════════╪══════════════╪══════════════════════╪══════════════════╪══════════╡\n",
       "│ count      ┆ 145086.0      ┆ 145086.0     ┆ 65404                ┆ 145086           ┆ 145086.0 │\n",
       "│ null_count ┆ 0.0           ┆ 0.0          ┆ 79682                ┆ 0                ┆ 0.0      │\n",
       "│ mean       ┆ 1.4662e6      ┆ 8422.304482  ┆ 2018-01-18           ┆ 2015-06-13       ┆ 0.450795 │\n",
       "│ std        ┆ 886528.958911 ┆ 86232.120476 ┆ null                 ┆ null             ┆ null     │\n",
       "│ min        ┆ 225.0         ┆ -40000.0     ┆ 2002-02-27           ┆ 2001-11-19       ┆ 0.0      │\n",
       "│ 25%        ┆ 660041.0      ┆ 0.0          ┆ 2017-09-30           ┆ 2014-07-03       ┆ null     │\n",
       "│ 50%        ┆ 1.556939e6    ┆ 223.658      ┆ 2018-01-21           ┆ 2015-06-22       ┆ null     │\n",
       "│ 75%        ┆ 2.530539e6    ┆ 478.34       ┆ 2018-06-25           ┆ 2016-04-27       ┆ null     │\n",
       "│ max        ┆ 2.703453e6    ┆ 1.2213286e7  ┆ 2020-03-18           ┆ 2017-07-31       ┆ 1.0      │\n",
       "└────────────┴───────────────┴──────────────┴──────────────────────┴──────────────────┴──────────┘"
      ]
     },
     "execution_count": 7,
     "metadata": {},
     "output_type": "execute_result"
    }
   ],
   "source": [
    "df.describe()"
   ]
  },
  {
   "cell_type": "markdown",
   "metadata": {},
   "source": [
    "- 예금이 `-` 인 경우가 존재한다. default 와의 연관성은?\n",
    "- 저축을 하는사람과 예금을 하는 사람의 양을 비교하고싶네"
   ]
  },
  {
   "cell_type": "code",
   "execution_count": 10,
   "metadata": {},
   "outputs": [
    {
     "data": {
      "text/html": [
       "<div><style>\n",
       ".dataframe > thead > tr,\n",
       ".dataframe > tbody > tr {\n",
       "  text-align: right;\n",
       "  white-space: pre-wrap;\n",
       "}\n",
       "</style>\n",
       "<small>shape: (9, 3)</small><table border=\"1\" class=\"dataframe\"><thead><tr><th>statistic</th><th>case_id</th><th>count</th></tr><tr><td>str</td><td>f64</td><td>f64</td></tr></thead><tbody><tr><td>&quot;count&quot;</td><td>7878.0</td><td>7878.0</td></tr><tr><td>&quot;null_count&quot;</td><td>0.0</td><td>0.0</td></tr><tr><td>&quot;mean&quot;</td><td>1.4430e6</td><td>3.768215</td></tr><tr><td>&quot;std&quot;</td><td>912436.756489</td><td>2.050299</td></tr><tr><td>&quot;min&quot;</td><td>390.0</td><td>3.0</td></tr><tr><td>&quot;25%&quot;</td><td>250130.0</td><td>3.0</td></tr><tr><td>&quot;50%&quot;</td><td>1.532192e6</td><td>3.0</td></tr><tr><td>&quot;75%&quot;</td><td>2.535663e6</td><td>4.0</td></tr><tr><td>&quot;max&quot;</td><td>2.70343e6</td><td>65.0</td></tr></tbody></table></div>"
      ],
      "text/plain": [
       "shape: (9, 3)\n",
       "┌────────────┬───────────────┬──────────┐\n",
       "│ statistic  ┆ case_id       ┆ count    │\n",
       "│ ---        ┆ ---           ┆ ---      │\n",
       "│ str        ┆ f64           ┆ f64      │\n",
       "╞════════════╪═══════════════╪══════════╡\n",
       "│ count      ┆ 7878.0        ┆ 7878.0   │\n",
       "│ null_count ┆ 0.0           ┆ 0.0      │\n",
       "│ mean       ┆ 1.4430e6      ┆ 3.768215 │\n",
       "│ std        ┆ 912436.756489 ┆ 2.050299 │\n",
       "│ min        ┆ 390.0         ┆ 3.0      │\n",
       "│ 25%        ┆ 250130.0      ┆ 3.0      │\n",
       "│ 50%        ┆ 1.532192e6    ┆ 3.0      │\n",
       "│ 75%        ┆ 2.535663e6    ┆ 4.0      │\n",
       "│ max        ┆ 2.70343e6     ┆ 65.0     │\n",
       "└────────────┴───────────────┴──────────┘"
      ]
     },
     "execution_count": 10,
     "metadata": {},
     "output_type": "execute_result"
    }
   ],
   "source": [
    "df['case_id'].value_counts().filter(pl.col('count')>2).describe()"
   ]
  },
  {
   "cell_type": "markdown",
   "metadata": {},
   "source": [
    "- 중복되는 예/적금이 많다.\n",
    "- 예/적금이 많으면 default 가 적게 나타난다? (다만 표본이 좀 적다)\n",
    "- 예/적금은 많은데 전부다 비어있거나 거래가 안되는통장이라면?"
   ]
  },
  {
   "cell_type": "markdown",
   "metadata": {},
   "source": [
    "`EDA Example`\n",
    "- 여러 개의 deposit 이 존재할 떄, default 는?"
   ]
  },
  {
   "cell_type": "code",
   "execution_count": 22,
   "metadata": {},
   "outputs": [
    {
     "data": {
      "text/plain": [
       "0.014014524143202955"
      ]
     },
     "execution_count": 22,
     "metadata": {},
     "output_type": "execute_result"
    }
   ],
   "source": [
    "heavy_deposit = df['case_id'].value_counts().filter((pl.col('count')>=3) & (pl.col('count')<=18)).sort(by='case_id')\n",
    "heavy_deposit_case_ids = heavy_deposit['case_id'].to_list()\n",
    "filtered_df = base.filter(pl.col('case_id').is_in(heavy_deposit_case_ids))\n",
    "target_count = filtered_df.filter(pl.col('target') == 1)\n",
    "len(target_count) / len(filtered_df)"
   ]
  },
  {
   "cell_type": "code",
   "execution_count": 12,
   "metadata": {},
   "outputs": [],
   "source": [
    "ans = []\n",
    "for num in range(3, 33):\n",
    "    heavy_deposit = df['case_id'].value_counts().filter(pl.col('count')>=num).sort(by='case_id')\n",
    "    heavy_deposit_case_ids = heavy_deposit['case_id'].to_list()\n",
    "    filtered_df = base.filter(pl.col('case_id').is_in(heavy_deposit_case_ids))\n",
    "    target_count = filtered_df.filter(pl.col('target') == 1)\n",
    "    ratio = len(target_count) / len(filtered_df)\n",
    "    ans.append((num, ratio))"
   ]
  },
  {
   "cell_type": "code",
   "execution_count": 14,
   "metadata": {},
   "outputs": [
    {
     "data": {
      "text/plain": [
       "Text(0.5, 1.0, 'Default ratio according to the number of deposits')"
      ]
     },
     "execution_count": 14,
     "metadata": {},
     "output_type": "execute_result"
    },
    {
     "data": {
      "image/png": "[encoded data removed]",
      "text/plain": [
       "<Figure size 2000x600 with 1 Axes>"
      ]
     },
     "metadata": {},
     "output_type": "display_data"
    }
   ],
   "source": [
    "# 배열을 x와 y 리스트로 분리\n",
    "x_values = [item[0] for item in ans]\n",
    "y_values = [item[1] for item in ans]\n",
    "plt.figure(figsize=(20, 6))\n",
    "sns.barplot(x=x_values, y=y_values)\n",
    "plt.axhline(y=0.03143727577671242, color='r', linestyle='--', label='total_mean')\n",
    "plt.title('Default ratio according to the number of deposits', fontsize=20)"
   ]
  },
  {
   "cell_type": "markdown",
   "metadata": {},
   "source": [
    "`EDA2`\n",
    " 1. deposit 이 존재하는 고객은 deafult 가 적은가\n",
    " "
   ]
  },
  {
   "cell_type": "code",
   "execution_count": 17,
   "metadata": {},
   "outputs": [],
   "source": [
    "unique_case_ids = df.select('case_id').unique().sort(by='case_id')['case_id'].to_list()"
   ]
  },
  {
   "cell_type": "code",
   "execution_count": 19,
   "metadata": {},
   "outputs": [],
   "source": [
    "deposit_base = base.with_columns(pl.col('case_id').is_in(unique_case_ids).alias('is_deposit'))"
   ]
  },
  {
   "cell_type": "code",
   "execution_count": 25,
   "metadata": {},
   "outputs": [
    {
     "data": {
      "text/html": [
       "<div><style>\n",
       ".dataframe > thead > tr,\n",
       ".dataframe > tbody > tr {\n",
       "  text-align: right;\n",
       "  white-space: pre-wrap;\n",
       "}\n",
       "</style>\n",
       "<small>shape: (2, 2)</small><table border=\"1\" class=\"dataframe\"><thead><tr><th>is_deposit</th><th>count</th></tr><tr><td>bool</td><td>u32</td></tr></thead><tbody><tr><td>true</td><td>105111</td></tr><tr><td>false</td><td>1421548</td></tr></tbody></table></div>"
      ],
      "text/plain": [
       "shape: (2, 2)\n",
       "┌────────────┬─────────┐\n",
       "│ is_deposit ┆ count   │\n",
       "│ ---        ┆ ---     │\n",
       "│ bool       ┆ u32     │\n",
       "╞════════════╪═════════╡\n",
       "│ true       ┆ 105111  │\n",
       "│ false      ┆ 1421548 │\n",
       "└────────────┴─────────┘"
      ]
     },
     "execution_count": 25,
     "metadata": {},
     "output_type": "execute_result"
    }
   ],
   "source": [
    "deposit_base['is_deposit'].value_counts()"
   ]
  },
  {
   "cell_type": "code",
   "execution_count": 24,
   "metadata": {},
   "outputs": [
    {
     "data": {
      "text/plain": [
       "<Axes: xlabel='is_deposit', ylabel='target'>"
      ]
     },
     "execution_count": 24,
     "metadata": {},
     "output_type": "execute_result"
    },
    {
     "data": {
      "image/png": "[encoded data removed]",
      "text/plain": [
       "<Figure size 640x480 with 1 Axes>"
      ]
     },
     "metadata": {},
     "output_type": "display_data"
    }
   ],
   "source": [
    "data = deposit_base.select(pl.col('is_deposit', 'target')).to_pandas()\n",
    "sns.barplot(x=data['is_deposit'], y=data['target'])"
   ]
  },
  {
   "cell_type": "code",
   "execution_count": 29,
   "metadata": {},
   "outputs": [
    {
     "name": "stdout",
     "output_type": "stream",
     "text": [
      "Odds Ratio: 0.7165775533454156, p-value: 6.705531087305051e-62\n"
     ]
    }
   ],
   "source": [
    "from scipy.stats import fisher_exact\n",
    "import pandas as pd\n",
    "\n",
    "# 2x2 contingency table 생성\n",
    "contingency_table = pd.crosstab(data['is_deposit'], data['target'])\n",
    "# Fisher's exact test\n",
    "odds_ratio, p_value = fisher_exact(contingency_table)\n",
    "# 결과 출력\n",
    "print(f\"Odds Ratio: {odds_ratio}, p-value: {p_value}\")"
   ]
  },
  {
   "cell_type": "markdown",
   "metadata": {},
   "source": [
    "`EDA3`\n",
    "- Deposit 금액에 따른 default"
   ]
  },
  {
   "cell_type": "code",
   "execution_count": 9,
   "metadata": {},
   "outputs": [
    {
     "data": {
      "text/html": [
       "<div><style>\n",
       ".dataframe > thead > tr,\n",
       ".dataframe > tbody > tr {\n",
       "  text-align: right;\n",
       "  white-space: pre-wrap;\n",
       "}\n",
       "</style>\n",
       "<small>shape: (9, 6)</small><table border=\"1\" class=\"dataframe\"><thead><tr><th>statistic</th><th>case_id</th><th>amount_416A</th><th>contractenddate_991D</th><th>openingdate_313D</th><th>saving</th></tr><tr><td>str</td><td>f64</td><td>f64</td><td>str</td><td>str</td><td>f64</td></tr></thead><tbody><tr><td>&quot;count&quot;</td><td>145086.0</td><td>145086.0</td><td>&quot;65404&quot;</td><td>&quot;145086&quot;</td><td>145086.0</td></tr><tr><td>&quot;null_count&quot;</td><td>0.0</td><td>0.0</td><td>&quot;79682&quot;</td><td>&quot;0&quot;</td><td>0.0</td></tr><tr><td>&quot;mean&quot;</td><td>1.4662e6</td><td>8422.304482</td><td>&quot;2018-01-18&quot;</td><td>&quot;2015-06-13&quot;</td><td>0.450795</td></tr><tr><td>&quot;std&quot;</td><td>886528.958911</td><td>86232.120476</td><td>null</td><td>null</td><td>null</td></tr><tr><td>&quot;min&quot;</td><td>225.0</td><td>-40000.0</td><td>&quot;2002-02-27&quot;</td><td>&quot;2001-11-19&quot;</td><td>0.0</td></tr><tr><td>&quot;25%&quot;</td><td>660041.0</td><td>0.0</td><td>&quot;2017-09-30&quot;</td><td>&quot;2014-07-03&quot;</td><td>null</td></tr><tr><td>&quot;50%&quot;</td><td>1.556939e6</td><td>223.658</td><td>&quot;2018-01-21&quot;</td><td>&quot;2015-06-22&quot;</td><td>null</td></tr><tr><td>&quot;75%&quot;</td><td>2.530539e6</td><td>478.34</td><td>&quot;2018-06-25&quot;</td><td>&quot;2016-04-27&quot;</td><td>null</td></tr><tr><td>&quot;max&quot;</td><td>2.703453e6</td><td>1.2213286e7</td><td>&quot;2020-03-18&quot;</td><td>&quot;2017-07-31&quot;</td><td>1.0</td></tr></tbody></table></div>"
      ],
      "text/plain": [
       "shape: (9, 6)\n",
       "┌────────────┬───────────────┬──────────────┬──────────────────────┬──────────────────┬──────────┐\n",
       "│ statistic  ┆ case_id       ┆ amount_416A  ┆ contractenddate_991D ┆ openingdate_313D ┆ saving   │\n",
       "│ ---        ┆ ---           ┆ ---          ┆ ---                  ┆ ---              ┆ ---      │\n",
       "│ str        ┆ f64           ┆ f64          ┆ str                  ┆ str              ┆ f64      │\n",
       "╞════════════╪═══════════════╪══════════════╪══════════════════════╪══════════════════╪══════════╡\n",
       "│ count      ┆ 145086.0      ┆ 145086.0     ┆ 65404                ┆ 145086           ┆ 145086.0 │\n",
       "│ null_count ┆ 0.0           ┆ 0.0          ┆ 79682                ┆ 0                ┆ 0.0      │\n",
       "│ mean       ┆ 1.4662e6      ┆ 8422.304482  ┆ 2018-01-18           ┆ 2015-06-13       ┆ 0.450795 │\n",
       "│ std        ┆ 886528.958911 ┆ 86232.120476 ┆ null                 ┆ null             ┆ null     │\n",
       "│ min        ┆ 225.0         ┆ -40000.0     ┆ 2002-02-27           ┆ 2001-11-19       ┆ 0.0      │\n",
       "│ 25%        ┆ 660041.0      ┆ 0.0          ┆ 2017-09-30           ┆ 2014-07-03       ┆ null     │\n",
       "│ 50%        ┆ 1.556939e6    ┆ 223.658      ┆ 2018-01-21           ┆ 2015-06-22       ┆ null     │\n",
       "│ 75%        ┆ 2.530539e6    ┆ 478.34       ┆ 2018-06-25           ┆ 2016-04-27       ┆ null     │\n",
       "│ max        ┆ 2.703453e6    ┆ 1.2213286e7  ┆ 2020-03-18           ┆ 2017-07-31       ┆ 1.0      │\n",
       "└────────────┴───────────────┴──────────────┴──────────────────────┴──────────────────┴──────────┘"
      ]
     },
     "execution_count": 9,
     "metadata": {},
     "output_type": "execute_result"
    }
   ],
   "source": [
    "df.describe()"
   ]
  },
  {
   "cell_type": "code",
   "execution_count": 50,
   "metadata": {},
   "outputs": [],
   "source": [
    "\n",
    "median = df.filter(pl.col('amount_416A') > df['amount_416A'].median())"
   ]
  },
  {
   "cell_type": "code",
   "execution_count": 47,
   "metadata": {},
   "outputs": [
    {
     "data": {
      "text/html": [
       "<div><style>\n",
       ".dataframe > thead > tr,\n",
       ".dataframe > tbody > tr {\n",
       "  text-align: right;\n",
       "  white-space: pre-wrap;\n",
       "}\n",
       "</style>\n",
       "<small>shape: (2, 2)</small><table border=\"1\" class=\"dataframe\"><thead><tr><th>is_median_deposit</th><th>count</th></tr><tr><td>bool</td><td>u32</td></tr></thead><tbody><tr><td>false</td><td>1459462</td></tr><tr><td>true</td><td>67197</td></tr></tbody></table></div>"
      ],
      "text/plain": [
       "shape: (2, 2)\n",
       "┌───────────────────┬─────────┐\n",
       "│ is_median_deposit ┆ count   │\n",
       "│ ---               ┆ ---     │\n",
       "│ bool              ┆ u32     │\n",
       "╞═══════════════════╪═════════╡\n",
       "│ false             ┆ 1459462 │\n",
       "│ true              ┆ 67197   │\n",
       "└───────────────────┴─────────┘"
      ]
     },
     "execution_count": 47,
     "metadata": {},
     "output_type": "execute_result"
    }
   ],
   "source": [
    "unique_median_ids = median.select('case_id').unique().sort(by='case_id')['case_id'].to_list()\n",
    "deposit_base = base.with_columns(pl.col('case_id').is_in(unique_median_ids).alias('is_median_deposit'))\n",
    "deposit_base['is_median_deposit'].value_counts()"
   ]
  },
  {
   "cell_type": "code",
   "execution_count": 48,
   "metadata": {},
   "outputs": [
    {
     "data": {
      "text/plain": [
       "<Axes: xlabel='is_median_deposit', ylabel='target'>"
      ]
     },
     "execution_count": 48,
     "metadata": {},
     "output_type": "execute_result"
    },
    {
     "data": {
      "image/png": "[encoded data removed]",
      "text/plain": [
       "<Figure size 640x480 with 1 Axes>"
      ]
     },
     "metadata": {},
     "output_type": "display_data"
    }
   ],
   "source": [
    "data = deposit_base.select(pl.col('is_median_deposit', 'target')).to_pandas()\n",
    "sns.barplot(x=data['is_median_deposit'], y=data['target'])"
   ]
  },
  {
   "cell_type": "code",
   "execution_count": 49,
   "metadata": {},
   "outputs": [
    {
     "name": "stdout",
     "output_type": "stream",
     "text": [
      "Odds Ratio: 0.644228918279468, p-value: 8.374385857749228e-66\n"
     ]
    }
   ],
   "source": [
    "from scipy.stats import fisher_exact\n",
    "import pandas as pd\n",
    "\n",
    "# 2x2 contingency table 생성\n",
    "contingency_table = pd.crosstab(data['is_median_deposit'], data['target'])\n",
    "# Fisher's exact test\n",
    "odds_ratio, p_value = fisher_exact(contingency_table)\n",
    "# 결과 출력\n",
    "print(f\"Odds Ratio: {odds_ratio}, p-value: {p_value}\")"
   ]
  },
  {
   "cell_type": "markdown",
   "metadata": {},
   "source": [
    "`EDA4`\n",
    "- 금액이 0 이하인 deposit 이 있는 경우 어떻게 처리할까."
   ]
  },
  {
   "cell_type": "code",
   "execution_count": 51,
   "metadata": {},
   "outputs": [
    {
     "data": {
      "text/html": [
       "<div><style>\n",
       ".dataframe > thead > tr,\n",
       ".dataframe > tbody > tr {\n",
       "  text-align: right;\n",
       "  white-space: pre-wrap;\n",
       "}\n",
       "</style>\n",
       "<small>shape: (145_086, 5)</small><table border=\"1\" class=\"dataframe\"><thead><tr><th>case_id</th><th>amount_416A</th><th>contractenddate_991D</th><th>openingdate_313D</th><th>saving</th></tr><tr><td>i64</td><td>f64</td><td>date</td><td>date</td><td>bool</td></tr></thead><tbody><tr><td>225</td><td>0.0</td><td>null</td><td>2016-08-16</td><td>false</td></tr><tr><td>331</td><td>260.374</td><td>2018-03-18</td><td>2015-03-19</td><td>true</td></tr><tr><td>358</td><td>0.0</td><td>null</td><td>2014-09-02</td><td>false</td></tr><tr><td>390</td><td>211748.53</td><td>2017-07-22</td><td>2014-07-23</td><td>true</td></tr><tr><td>390</td><td>223.68001</td><td>null</td><td>2016-06-08</td><td>false</td></tr><tr><td>390</td><td>203.602</td><td>2017-09-30</td><td>2015-10-01</td><td>true</td></tr><tr><td>445</td><td>23735.938</td><td>null</td><td>2016-07-19</td><td>false</td></tr><tr><td>445</td><td>0.0</td><td>2017-07-31</td><td>2015-08-01</td><td>true</td></tr><tr><td>445</td><td>0.0</td><td>null</td><td>2016-02-22</td><td>false</td></tr><tr><td>445</td><td>0.0</td><td>null</td><td>2015-04-27</td><td>false</td></tr><tr><td>445</td><td>0.0</td><td>2018-02-08</td><td>2015-12-10</td><td>true</td></tr><tr><td>450</td><td>0.0</td><td>null</td><td>2015-07-08</td><td>false</td></tr><tr><td>&hellip;</td><td>&hellip;</td><td>&hellip;</td><td>&hellip;</td><td>&hellip;</td></tr><tr><td>2703430</td><td>0.0</td><td>null</td><td>2015-12-11</td><td>false</td></tr><tr><td>2703430</td><td>0.0</td><td>null</td><td>2015-03-19</td><td>false</td></tr><tr><td>2703430</td><td>0.0</td><td>null</td><td>2013-09-02</td><td>false</td></tr><tr><td>2703430</td><td>0.0</td><td>null</td><td>2016-02-25</td><td>false</td></tr><tr><td>2703430</td><td>0.0</td><td>null</td><td>2015-03-19</td><td>false</td></tr><tr><td>2703430</td><td>0.0</td><td>null</td><td>2015-02-13</td><td>false</td></tr><tr><td>2703430</td><td>0.0</td><td>null</td><td>2015-08-25</td><td>false</td></tr><tr><td>2703430</td><td>22918.006</td><td>null</td><td>2016-11-26</td><td>false</td></tr><tr><td>2703430</td><td>0.0</td><td>null</td><td>2014-02-14</td><td>false</td></tr><tr><td>2703439</td><td>219.98401</td><td>null</td><td>2016-11-25</td><td>false</td></tr><tr><td>2703453</td><td>44916.645</td><td>2018-05-28</td><td>2015-05-29</td><td>true</td></tr><tr><td>2703453</td><td>0.0</td><td>null</td><td>2014-08-18</td><td>false</td></tr></tbody></table></div>"
      ],
      "text/plain": [
       "shape: (145_086, 5)\n",
       "┌─────────┬─────────────┬──────────────────────┬──────────────────┬────────┐\n",
       "│ case_id ┆ amount_416A ┆ contractenddate_991D ┆ openingdate_313D ┆ saving │\n",
       "│ ---     ┆ ---         ┆ ---                  ┆ ---              ┆ ---    │\n",
       "│ i64     ┆ f64         ┆ date                 ┆ date             ┆ bool   │\n",
       "╞═════════╪═════════════╪══════════════════════╪══════════════════╪════════╡\n",
       "│ 225     ┆ 0.0         ┆ null                 ┆ 2016-08-16       ┆ false  │\n",
       "│ 331     ┆ 260.374     ┆ 2018-03-18           ┆ 2015-03-19       ┆ true   │\n",
       "│ 358     ┆ 0.0         ┆ null                 ┆ 2014-09-02       ┆ false  │\n",
       "│ 390     ┆ 211748.53   ┆ 2017-07-22           ┆ 2014-07-23       ┆ true   │\n",
       "│ 390     ┆ 223.68001   ┆ null                 ┆ 2016-06-08       ┆ false  │\n",
       "│ …       ┆ …           ┆ …                    ┆ …                ┆ …      │\n",
       "│ 2703430 ┆ 22918.006   ┆ null                 ┆ 2016-11-26       ┆ false  │\n",
       "│ 2703430 ┆ 0.0         ┆ null                 ┆ 2014-02-14       ┆ false  │\n",
       "│ 2703439 ┆ 219.98401   ┆ null                 ┆ 2016-11-25       ┆ false  │\n",
       "│ 2703453 ┆ 44916.645   ┆ 2018-05-28           ┆ 2015-05-29       ┆ true   │\n",
       "│ 2703453 ┆ 0.0         ┆ null                 ┆ 2014-08-18       ┆ false  │\n",
       "└─────────┴─────────────┴──────────────────────┴──────────────────┴────────┘"
      ]
     },
     "execution_count": 51,
     "metadata": {},
     "output_type": "execute_result"
    }
   ],
   "source": [
    "df"
   ]
  },
  {
   "cell_type": "code",
   "execution_count": 70,
   "metadata": {},
   "outputs": [
    {
     "data": {
      "text/html": [
       "<div><style>\n",
       ".dataframe > thead > tr,\n",
       ".dataframe > tbody > tr {\n",
       "  text-align: right;\n",
       "  white-space: pre-wrap;\n",
       "}\n",
       "</style>\n",
       "<small>shape: (2, 2)</small><table border=\"1\" class=\"dataframe\"><thead><tr><th>is_non_zero_deposit</th><th>count</th></tr><tr><td>bool</td><td>u32</td></tr></thead><tbody><tr><td>false</td><td>1477338</td></tr><tr><td>true</td><td>49321</td></tr></tbody></table></div>"
      ],
      "text/plain": [
       "shape: (2, 2)\n",
       "┌─────────────────────┬─────────┐\n",
       "│ is_non_zero_deposit ┆ count   │\n",
       "│ ---                 ┆ ---     │\n",
       "│ bool                ┆ u32     │\n",
       "╞═════════════════════╪═════════╡\n",
       "│ false               ┆ 1477338 │\n",
       "│ true                ┆ 49321   │\n",
       "└─────────────────────┴─────────┘"
      ]
     },
     "execution_count": 70,
     "metadata": {},
     "output_type": "execute_result"
    }
   ],
   "source": [
    "saving_df = df.filter((pl.col('saving')) & (pl.col('amount_416A') > 0))\n",
    "non_zero_saving_ids = saving_df.select('case_id').unique().sort(by='case_id')['case_id'].to_list()\n",
    "deposit_base = base.with_columns(pl.col('case_id').is_in(non_zero_saving_ids).alias('is_non_zero_deposit'))\n",
    "deposit_base['is_non_zero_deposit'].value_counts()"
   ]
  },
  {
   "cell_type": "code",
   "execution_count": 69,
   "metadata": {},
   "outputs": [
    {
     "name": "stdout",
     "output_type": "stream",
     "text": [
      "Odds Ratio: 0.6095988354443331, p-value: 1.5677717741223311e-38\n"
     ]
    },
    {
     "data": {
      "image/png": "[encoded data removed]",
      "text/plain": [
       "<Figure size 640x480 with 1 Axes>"
      ]
     },
     "metadata": {},
     "output_type": "display_data"
    }
   ],
   "source": [
    "data = deposit_base.select(pl.col('is_non_zero_deposit', 'target')).to_pandas()\n",
    "sns.barplot(x=data['is_non_zero_deposit'], y=data['target'])\n",
    "\n",
    "# 2x2 contingency table 생성\n",
    "contingency_table = pd.crosstab(data['is_non_zero_deposit'], data['target'])\n",
    "# Fisher's exact test\n",
    "odds_ratio, p_value = fisher_exact(contingency_table)\n",
    "# 결과 출력\n",
    "print(f\"Odds Ratio: {odds_ratio}, p-value: {p_value}\")"
   ]
  },
  {
   "cell_type": "code",
   "execution_count": null,
   "metadata": {},
   "outputs": [],
   "source": []
  }
 ],
 "metadata": {
  "kernelspec": {
   "display_name": "base",
   "language": "python",
   "name": "python3"
  },
  "language_info": {
   "codemirror_mode": {
    "name": "ipython",
    "version": 3
   },
   "file_extension": ".py",
   "mimetype": "text/x-python",
   "name": "python",
   "nbconvert_exporter": "python",
   "pygments_lexer": "ipython3",
   "version": "3.11.5"
  }
 },
 "nbformat": 4,
 "nbformat_minor": 2
}
