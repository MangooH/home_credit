{
 "cells": [
  {
   "cell_type": "markdown",
   "metadata": {},
   "source": [
    "- **Deposit과 Default 간의 연관성 가설**:\n",
    "\n",
    "    - 더 많은 예금을 가진 고객은 채무를 이행하는 경향이 더 높을 것이다.\n",
    "        \n",
    "        ↔ 예금이 적은 고객은 금전적 여유가 적을 가능성이 있고, 이로 인해 대출 채무를 이행하는 데 어려움을 겪을 수 있다.\n",
    "        \n",
    "    - 예금의 기간이 길수록 채무 이행하는 경향이 높을 것이다."
   ]
  },
  {
   "cell_type": "code",
   "execution_count": 10,
   "metadata": {},
   "outputs": [],
   "source": [
    "import os, glob\n",
    "import pandas as pd\n",
    "import polars as pl\n",
    "import numpy as np\n",
    "import matplotlib.pyplot as plt\n",
    "import seaborn as sns\n",
    "from pathlib import Path\n",
    "\n",
    "PATH_DATASET = Path(\"../data\")\n",
    "PATH_PARQUETS = PATH_DATASET / \"parquet_files\"\n",
    "PARQUETS_TRAIN = PATH_PARQUETS / \"train\"\n",
    "PARQUETS_TEST = PATH_PARQUETS / \"test\""
   ]
  },
  {
   "cell_type": "code",
   "execution_count": 11,
   "metadata": {},
   "outputs": [],
   "source": [
    "base = pl.read_parquet(PARQUETS_TRAIN / 'train_base.parquet')\n",
    "df = pl.read_parquet(PARQUETS_TRAIN / 'train_deposit_1.parquet')"
   ]
  },
  {
   "cell_type": "code",
   "execution_count": 12,
   "metadata": {},
   "outputs": [
    {
     "data": {
      "text/html": [
       "<div><style>\n",
       ".dataframe > thead > tr,\n",
       ".dataframe > tbody > tr {\n",
       "  text-align: right;\n",
       "  white-space: pre-wrap;\n",
       "}\n",
       "</style>\n",
       "<small>shape: (9, 6)</small><table border=\"1\" class=\"dataframe\"><thead><tr><th>statistic</th><th>case_id</th><th>date_decision</th><th>MONTH</th><th>WEEK_NUM</th><th>target</th></tr><tr><td>str</td><td>f64</td><td>str</td><td>f64</td><td>f64</td><td>f64</td></tr></thead><tbody><tr><td>&quot;count&quot;</td><td>1.526659e6</td><td>&quot;1526659&quot;</td><td>1.526659e6</td><td>1.526659e6</td><td>1.526659e6</td></tr><tr><td>&quot;null_count&quot;</td><td>0.0</td><td>&quot;0&quot;</td><td>0.0</td><td>0.0</td><td>0.0</td></tr><tr><td>&quot;mean&quot;</td><td>1.2861e6</td><td>null</td><td>201936.287982</td><td>40.769036</td><td>0.031437</td></tr><tr><td>&quot;std&quot;</td><td>718946.592285</td><td>null</td><td>44.735975</td><td>23.797981</td><td>0.174496</td></tr><tr><td>&quot;min&quot;</td><td>0.0</td><td>&quot;2019-01-01&quot;</td><td>201901.0</td><td>0.0</td><td>0.0</td></tr><tr><td>&quot;25%&quot;</td><td>766198.0</td><td>null</td><td>201906.0</td><td>23.0</td><td>0.0</td></tr><tr><td>&quot;50%&quot;</td><td>1.357358e6</td><td>null</td><td>201910.0</td><td>40.0</td><td>0.0</td></tr><tr><td>&quot;75%&quot;</td><td>1.739023e6</td><td>null</td><td>202001.0</td><td>55.0</td><td>0.0</td></tr><tr><td>&quot;max&quot;</td><td>2.703454e6</td><td>&quot;2020-10-05&quot;</td><td>202010.0</td><td>91.0</td><td>1.0</td></tr></tbody></table></div>"
      ],
      "text/plain": [
       "shape: (9, 6)\n",
       "┌────────────┬───────────────┬───────────────┬───────────────┬────────────┬────────────┐\n",
       "│ statistic  ┆ case_id       ┆ date_decision ┆ MONTH         ┆ WEEK_NUM   ┆ target     │\n",
       "│ ---        ┆ ---           ┆ ---           ┆ ---           ┆ ---        ┆ ---        │\n",
       "│ str        ┆ f64           ┆ str           ┆ f64           ┆ f64        ┆ f64        │\n",
       "╞════════════╪═══════════════╪═══════════════╪═══════════════╪════════════╪════════════╡\n",
       "│ count      ┆ 1.526659e6    ┆ 1526659       ┆ 1.526659e6    ┆ 1.526659e6 ┆ 1.526659e6 │\n",
       "│ null_count ┆ 0.0           ┆ 0             ┆ 0.0           ┆ 0.0        ┆ 0.0        │\n",
       "│ mean       ┆ 1.2861e6      ┆ null          ┆ 201936.287982 ┆ 40.769036  ┆ 0.031437   │\n",
       "│ std        ┆ 718946.592285 ┆ null          ┆ 44.735975     ┆ 23.797981  ┆ 0.174496   │\n",
       "│ min        ┆ 0.0           ┆ 2019-01-01    ┆ 201901.0      ┆ 0.0        ┆ 0.0        │\n",
       "│ 25%        ┆ 766198.0      ┆ null          ┆ 201906.0      ┆ 23.0       ┆ 0.0        │\n",
       "│ 50%        ┆ 1.357358e6    ┆ null          ┆ 201910.0      ┆ 40.0       ┆ 0.0        │\n",
       "│ 75%        ┆ 1.739023e6    ┆ null          ┆ 202001.0      ┆ 55.0       ┆ 0.0        │\n",
       "│ max        ┆ 2.703454e6    ┆ 2020-10-05    ┆ 202010.0      ┆ 91.0       ┆ 1.0        │\n",
       "└────────────┴───────────────┴───────────────┴───────────────┴────────────┴────────────┘"
      ]
     },
     "execution_count": 12,
     "metadata": {},
     "output_type": "execute_result"
    }
   ],
   "source": [
    "base.describe()"
   ]
  },
  {
   "cell_type": "code",
   "execution_count": 13,
   "metadata": {},
   "outputs": [],
   "source": [
    "df = df.with_columns(pl.col('contractenddate_991D', 'openingdate_313D').str.to_datetime().dt.date())"
   ]
  },
  {
   "cell_type": "code",
   "execution_count": 14,
   "metadata": {},
   "outputs": [
    {
     "data": {
      "text/html": [
       "<div><style>\n",
       ".dataframe > thead > tr,\n",
       ".dataframe > tbody > tr {\n",
       "  text-align: right;\n",
       "  white-space: pre-wrap;\n",
       "}\n",
       "</style>\n",
       "<small>shape: (1, 5)</small><table border=\"1\" class=\"dataframe\"><thead><tr><th>case_id</th><th>amount_416A</th><th>contractenddate_991D</th><th>num_group1</th><th>openingdate_313D</th></tr><tr><td>u32</td><td>u32</td><td>u32</td><td>u32</td><td>u32</td></tr></thead><tbody><tr><td>0</td><td>0</td><td>79682</td><td>0</td><td>0</td></tr></tbody></table></div>"
      ],
      "text/plain": [
       "shape: (1, 5)\n",
       "┌─────────┬─────────────┬──────────────────────┬────────────┬──────────────────┐\n",
       "│ case_id ┆ amount_416A ┆ contractenddate_991D ┆ num_group1 ┆ openingdate_313D │\n",
       "│ ---     ┆ ---         ┆ ---                  ┆ ---        ┆ ---              │\n",
       "│ u32     ┆ u32         ┆ u32                  ┆ u32        ┆ u32              │\n",
       "╞═════════╪═════════════╪══════════════════════╪════════════╪══════════════════╡\n",
       "│ 0       ┆ 0           ┆ 79682                ┆ 0          ┆ 0                │\n",
       "└─────────┴─────────────┴──────────────────────┴────────────┴──────────────────┘"
      ]
     },
     "execution_count": 14,
     "metadata": {},
     "output_type": "execute_result"
    }
   ],
   "source": [
    "df.null_count()"
   ]
  },
  {
   "cell_type": "markdown",
   "metadata": {},
   "source": [
    "- `amount_416A`: Deposit amount.\n",
    "- `contractenddate_991D`: 계약 종료일\n",
    "- `openingdate_313D`: deposit 시작일"
   ]
  },
  {
   "cell_type": "markdown",
   "metadata": {},
   "source": [
    "-> contractenddate_991D 데이터가 null 인경우 예금 / 있는 경우 저축으로 분류 가능?"
   ]
  },
  {
   "cell_type": "code",
   "execution_count": 15,
   "metadata": {},
   "outputs": [
    {
     "data": {
      "text/html": [
       "<div><style>\n",
       ".dataframe > thead > tr,\n",
       ".dataframe > tbody > tr {\n",
       "  text-align: right;\n",
       "  white-space: pre-wrap;\n",
       "}\n",
       "</style>\n",
       "<small>shape: (5, 6)</small><table border=\"1\" class=\"dataframe\"><thead><tr><th>case_id</th><th>amount_416A</th><th>contractenddate_991D</th><th>num_group1</th><th>openingdate_313D</th><th>saving</th></tr><tr><td>i64</td><td>f64</td><td>date</td><td>i64</td><td>date</td><td>bool</td></tr></thead><tbody><tr><td>225</td><td>0.0</td><td>null</td><td>0</td><td>2016-08-16</td><td>false</td></tr><tr><td>331</td><td>260.374</td><td>2018-03-18</td><td>0</td><td>2015-03-19</td><td>true</td></tr><tr><td>358</td><td>0.0</td><td>null</td><td>0</td><td>2014-09-02</td><td>false</td></tr><tr><td>390</td><td>211748.53</td><td>2017-07-22</td><td>0</td><td>2014-07-23</td><td>true</td></tr><tr><td>390</td><td>223.68001</td><td>null</td><td>2</td><td>2016-06-08</td><td>false</td></tr></tbody></table></div>"
      ],
      "text/plain": [
       "shape: (5, 6)\n",
       "┌─────────┬─────────────┬──────────────────────┬────────────┬──────────────────┬────────┐\n",
       "│ case_id ┆ amount_416A ┆ contractenddate_991D ┆ num_group1 ┆ openingdate_313D ┆ saving │\n",
       "│ ---     ┆ ---         ┆ ---                  ┆ ---        ┆ ---              ┆ ---    │\n",
       "│ i64     ┆ f64         ┆ date                 ┆ i64        ┆ date             ┆ bool   │\n",
       "╞═════════╪═════════════╪══════════════════════╪════════════╪══════════════════╪════════╡\n",
       "│ 225     ┆ 0.0         ┆ null                 ┆ 0          ┆ 2016-08-16       ┆ false  │\n",
       "│ 331     ┆ 260.374     ┆ 2018-03-18           ┆ 0          ┆ 2015-03-19       ┆ true   │\n",
       "│ 358     ┆ 0.0         ┆ null                 ┆ 0          ┆ 2014-09-02       ┆ false  │\n",
       "│ 390     ┆ 211748.53   ┆ 2017-07-22           ┆ 0          ┆ 2014-07-23       ┆ true   │\n",
       "│ 390     ┆ 223.68001   ┆ null                 ┆ 2          ┆ 2016-06-08       ┆ false  │\n",
       "└─────────┴─────────────┴──────────────────────┴────────────┴──────────────────┴────────┘"
      ]
     },
     "execution_count": 15,
     "metadata": {},
     "output_type": "execute_result"
    }
   ],
   "source": [
    "# saving - 저축 유무\n",
    "df = df.with_columns(pl.col('contractenddate_991D').is_not_null().alias('saving'))\n",
    "df.head()"
   ]
  },
  {
   "cell_type": "code",
   "execution_count": 17,
   "metadata": {},
   "outputs": [],
   "source": [
    "df = df.drop(['contractenddate_991D', 'num_group1'])"
   ]
  },
  {
   "cell_type": "code",
   "execution_count": 8,
   "metadata": {},
   "outputs": [
    {
     "data": {
      "text/html": [
       "<div><style>\n",
       ".dataframe > thead > tr,\n",
       ".dataframe > tbody > tr {\n",
       "  text-align: right;\n",
       "  white-space: pre-wrap;\n",
       "}\n",
       "</style>\n",
       "<small>shape: (145_086, 6)</small><table border=\"1\" class=\"dataframe\"><thead><tr><th>case_id</th><th>amount_416A</th><th>contractenddate_991D</th><th>openingdate_313D</th><th>saving</th><th>saving_period</th></tr><tr><td>i64</td><td>f64</td><td>date</td><td>date</td><td>bool</td><td>i64</td></tr></thead><tbody><tr><td>225</td><td>0.0</td><td>null</td><td>2016-08-16</td><td>false</td><td>null</td></tr><tr><td>331</td><td>260.374</td><td>2018-03-18</td><td>2015-03-19</td><td>true</td><td>1095</td></tr><tr><td>358</td><td>0.0</td><td>null</td><td>2014-09-02</td><td>false</td><td>null</td></tr><tr><td>390</td><td>211748.53</td><td>2017-07-22</td><td>2014-07-23</td><td>true</td><td>1095</td></tr><tr><td>390</td><td>223.68001</td><td>null</td><td>2016-06-08</td><td>false</td><td>null</td></tr><tr><td>390</td><td>203.602</td><td>2017-09-30</td><td>2015-10-01</td><td>true</td><td>730</td></tr><tr><td>445</td><td>23735.938</td><td>null</td><td>2016-07-19</td><td>false</td><td>null</td></tr><tr><td>445</td><td>0.0</td><td>2017-07-31</td><td>2015-08-01</td><td>true</td><td>730</td></tr><tr><td>445</td><td>0.0</td><td>null</td><td>2016-02-22</td><td>false</td><td>null</td></tr><tr><td>445</td><td>0.0</td><td>null</td><td>2015-04-27</td><td>false</td><td>null</td></tr><tr><td>445</td><td>0.0</td><td>2018-02-08</td><td>2015-12-10</td><td>true</td><td>791</td></tr><tr><td>450</td><td>0.0</td><td>null</td><td>2015-07-08</td><td>false</td><td>null</td></tr><tr><td>&hellip;</td><td>&hellip;</td><td>&hellip;</td><td>&hellip;</td><td>&hellip;</td><td>&hellip;</td></tr><tr><td>2703430</td><td>0.0</td><td>null</td><td>2015-12-11</td><td>false</td><td>null</td></tr><tr><td>2703430</td><td>0.0</td><td>null</td><td>2015-03-19</td><td>false</td><td>null</td></tr><tr><td>2703430</td><td>0.0</td><td>null</td><td>2013-09-02</td><td>false</td><td>null</td></tr><tr><td>2703430</td><td>0.0</td><td>null</td><td>2016-02-25</td><td>false</td><td>null</td></tr><tr><td>2703430</td><td>0.0</td><td>null</td><td>2015-03-19</td><td>false</td><td>null</td></tr><tr><td>2703430</td><td>0.0</td><td>null</td><td>2015-02-13</td><td>false</td><td>null</td></tr><tr><td>2703430</td><td>0.0</td><td>null</td><td>2015-08-25</td><td>false</td><td>null</td></tr><tr><td>2703430</td><td>22918.006</td><td>null</td><td>2016-11-26</td><td>false</td><td>null</td></tr><tr><td>2703430</td><td>0.0</td><td>null</td><td>2014-02-14</td><td>false</td><td>null</td></tr><tr><td>2703439</td><td>219.98401</td><td>null</td><td>2016-11-25</td><td>false</td><td>null</td></tr><tr><td>2703453</td><td>44916.645</td><td>2018-05-28</td><td>2015-05-29</td><td>true</td><td>1095</td></tr><tr><td>2703453</td><td>0.0</td><td>null</td><td>2014-08-18</td><td>false</td><td>null</td></tr></tbody></table></div>"
      ],
      "text/plain": [
       "shape: (145_086, 6)\n",
       "┌─────────┬─────────────┬──────────────────────┬──────────────────┬────────┬───────────────┐\n",
       "│ case_id ┆ amount_416A ┆ contractenddate_991D ┆ openingdate_313D ┆ saving ┆ saving_period │\n",
       "│ ---     ┆ ---         ┆ ---                  ┆ ---              ┆ ---    ┆ ---           │\n",
       "│ i64     ┆ f64         ┆ date                 ┆ date             ┆ bool   ┆ i64           │\n",
       "╞═════════╪═════════════╪══════════════════════╪══════════════════╪════════╪═══════════════╡\n",
       "│ 225     ┆ 0.0         ┆ null                 ┆ 2016-08-16       ┆ false  ┆ null          │\n",
       "│ 331     ┆ 260.374     ┆ 2018-03-18           ┆ 2015-03-19       ┆ true   ┆ 1095          │\n",
       "│ 358     ┆ 0.0         ┆ null                 ┆ 2014-09-02       ┆ false  ┆ null          │\n",
       "│ 390     ┆ 211748.53   ┆ 2017-07-22           ┆ 2014-07-23       ┆ true   ┆ 1095          │\n",
       "│ 390     ┆ 223.68001   ┆ null                 ┆ 2016-06-08       ┆ false  ┆ null          │\n",
       "│ …       ┆ …           ┆ …                    ┆ …                ┆ …      ┆ …             │\n",
       "│ 2703430 ┆ 22918.006   ┆ null                 ┆ 2016-11-26       ┆ false  ┆ null          │\n",
       "│ 2703430 ┆ 0.0         ┆ null                 ┆ 2014-02-14       ┆ false  ┆ null          │\n",
       "│ 2703439 ┆ 219.98401   ┆ null                 ┆ 2016-11-25       ┆ false  ┆ null          │\n",
       "│ 2703453 ┆ 44916.645   ┆ 2018-05-28           ┆ 2015-05-29       ┆ true   ┆ 1095          │\n",
       "│ 2703453 ┆ 0.0         ┆ null                 ┆ 2014-08-18       ┆ false  ┆ null          │\n",
       "└─────────┴─────────────┴──────────────────────┴──────────────────┴────────┴───────────────┘"
      ]
     },
     "execution_count": 8,
     "metadata": {},
     "output_type": "execute_result"
    }
   ],
   "source": [
    "df.with_columns((pl.col('contractenddate_991D')-pl.col('openingdate_313D')).dt.total_days().alias('saving_period'))"
   ]
  },
  {
   "cell_type": "code",
   "execution_count": 9,
   "metadata": {},
   "outputs": [
    {
     "data": {
      "text/html": [
       "<div><style>\n",
       ".dataframe > thead > tr,\n",
       ".dataframe > tbody > tr {\n",
       "  text-align: right;\n",
       "  white-space: pre-wrap;\n",
       "}\n",
       "</style>\n",
       "<small>shape: (9, 6)</small><table border=\"1\" class=\"dataframe\"><thead><tr><th>statistic</th><th>case_id</th><th>amount_416A</th><th>contractenddate_991D</th><th>openingdate_313D</th><th>saving</th></tr><tr><td>str</td><td>f64</td><td>f64</td><td>str</td><td>str</td><td>f64</td></tr></thead><tbody><tr><td>&quot;count&quot;</td><td>145086.0</td><td>145086.0</td><td>&quot;65404&quot;</td><td>&quot;145086&quot;</td><td>145086.0</td></tr><tr><td>&quot;null_count&quot;</td><td>0.0</td><td>0.0</td><td>&quot;79682&quot;</td><td>&quot;0&quot;</td><td>0.0</td></tr><tr><td>&quot;mean&quot;</td><td>1.4662e6</td><td>8422.304482</td><td>&quot;2018-01-18&quot;</td><td>&quot;2015-06-13&quot;</td><td>0.450795</td></tr><tr><td>&quot;std&quot;</td><td>886528.958911</td><td>86232.120476</td><td>null</td><td>null</td><td>null</td></tr><tr><td>&quot;min&quot;</td><td>225.0</td><td>-40000.0</td><td>&quot;2002-02-27&quot;</td><td>&quot;2001-11-19&quot;</td><td>0.0</td></tr><tr><td>&quot;25%&quot;</td><td>660041.0</td><td>0.0</td><td>&quot;2017-09-30&quot;</td><td>&quot;2014-07-03&quot;</td><td>null</td></tr><tr><td>&quot;50%&quot;</td><td>1.556939e6</td><td>223.658</td><td>&quot;2018-01-21&quot;</td><td>&quot;2015-06-22&quot;</td><td>null</td></tr><tr><td>&quot;75%&quot;</td><td>2.530539e6</td><td>478.34</td><td>&quot;2018-06-25&quot;</td><td>&quot;2016-04-27&quot;</td><td>null</td></tr><tr><td>&quot;max&quot;</td><td>2.703453e6</td><td>1.2213286e7</td><td>&quot;2020-03-18&quot;</td><td>&quot;2017-07-31&quot;</td><td>1.0</td></tr></tbody></table></div>"
      ],
      "text/plain": [
       "shape: (9, 6)\n",
       "┌────────────┬───────────────┬──────────────┬──────────────────────┬──────────────────┬──────────┐\n",
       "│ statistic  ┆ case_id       ┆ amount_416A  ┆ contractenddate_991D ┆ openingdate_313D ┆ saving   │\n",
       "│ ---        ┆ ---           ┆ ---          ┆ ---                  ┆ ---              ┆ ---      │\n",
       "│ str        ┆ f64           ┆ f64          ┆ str                  ┆ str              ┆ f64      │\n",
       "╞════════════╪═══════════════╪══════════════╪══════════════════════╪══════════════════╪══════════╡\n",
       "│ count      ┆ 145086.0      ┆ 145086.0     ┆ 65404                ┆ 145086           ┆ 145086.0 │\n",
       "│ null_count ┆ 0.0           ┆ 0.0          ┆ 79682                ┆ 0                ┆ 0.0      │\n",
       "│ mean       ┆ 1.4662e6      ┆ 8422.304482  ┆ 2018-01-18           ┆ 2015-06-13       ┆ 0.450795 │\n",
       "│ std        ┆ 886528.958911 ┆ 86232.120476 ┆ null                 ┆ null             ┆ null     │\n",
       "│ min        ┆ 225.0         ┆ -40000.0     ┆ 2002-02-27           ┆ 2001-11-19       ┆ 0.0      │\n",
       "│ 25%        ┆ 660041.0      ┆ 0.0          ┆ 2017-09-30           ┆ 2014-07-03       ┆ null     │\n",
       "│ 50%        ┆ 1.556939e6    ┆ 223.658      ┆ 2018-01-21           ┆ 2015-06-22       ┆ null     │\n",
       "│ 75%        ┆ 2.530539e6    ┆ 478.34       ┆ 2018-06-25           ┆ 2016-04-27       ┆ null     │\n",
       "│ max        ┆ 2.703453e6    ┆ 1.2213286e7  ┆ 2020-03-18           ┆ 2017-07-31       ┆ 1.0      │\n",
       "└────────────┴───────────────┴──────────────┴──────────────────────┴──────────────────┴──────────┘"
      ]
     },
     "execution_count": 9,
     "metadata": {},
     "output_type": "execute_result"
    }
   ],
   "source": [
    "df.describe()"
   ]
  },
  {
   "cell_type": "markdown",
   "metadata": {},
   "source": [
    "- 예금이 `-` 인 경우가 존재한다. default 와의 연관성은?\n",
    "- 저축을 하는사람과 예금을 하는 사람의 양을 비교하고싶네"
   ]
  },
  {
   "cell_type": "code",
   "execution_count": 10,
   "metadata": {},
   "outputs": [
    {
     "data": {
      "text/html": [
       "<div><style>\n",
       ".dataframe > thead > tr,\n",
       ".dataframe > tbody > tr {\n",
       "  text-align: right;\n",
       "  white-space: pre-wrap;\n",
       "}\n",
       "</style>\n",
       "<small>shape: (9, 3)</small><table border=\"1\" class=\"dataframe\"><thead><tr><th>statistic</th><th>case_id</th><th>count</th></tr><tr><td>str</td><td>f64</td><td>f64</td></tr></thead><tbody><tr><td>&quot;count&quot;</td><td>7878.0</td><td>7878.0</td></tr><tr><td>&quot;null_count&quot;</td><td>0.0</td><td>0.0</td></tr><tr><td>&quot;mean&quot;</td><td>1.4430e6</td><td>3.768215</td></tr><tr><td>&quot;std&quot;</td><td>912436.756489</td><td>2.050299</td></tr><tr><td>&quot;min&quot;</td><td>390.0</td><td>3.0</td></tr><tr><td>&quot;25%&quot;</td><td>250130.0</td><td>3.0</td></tr><tr><td>&quot;50%&quot;</td><td>1.532192e6</td><td>3.0</td></tr><tr><td>&quot;75%&quot;</td><td>2.535663e6</td><td>4.0</td></tr><tr><td>&quot;max&quot;</td><td>2.70343e6</td><td>65.0</td></tr></tbody></table></div>"
      ],
      "text/plain": [
       "shape: (9, 3)\n",
       "┌────────────┬───────────────┬──────────┐\n",
       "│ statistic  ┆ case_id       ┆ count    │\n",
       "│ ---        ┆ ---           ┆ ---      │\n",
       "│ str        ┆ f64           ┆ f64      │\n",
       "╞════════════╪═══════════════╪══════════╡\n",
       "│ count      ┆ 7878.0        ┆ 7878.0   │\n",
       "│ null_count ┆ 0.0           ┆ 0.0      │\n",
       "│ mean       ┆ 1.4430e6      ┆ 3.768215 │\n",
       "│ std        ┆ 912436.756489 ┆ 2.050299 │\n",
       "│ min        ┆ 390.0         ┆ 3.0      │\n",
       "│ 25%        ┆ 250130.0      ┆ 3.0      │\n",
       "│ 50%        ┆ 1.532192e6    ┆ 3.0      │\n",
       "│ 75%        ┆ 2.535663e6    ┆ 4.0      │\n",
       "│ max        ┆ 2.70343e6     ┆ 65.0     │\n",
       "└────────────┴───────────────┴──────────┘"
      ]
     },
     "execution_count": 10,
     "metadata": {},
     "output_type": "execute_result"
    }
   ],
   "source": [
    "df['case_id'].value_counts().filter(pl.col('count')>2).describe()"
   ]
  },
  {
   "cell_type": "markdown",
   "metadata": {},
   "source": [
    "- 중복되는 예/적금이 많다.\n",
    "- 예/적금이 많으면 default 가 적게 나타난다? (다만 표본이 좀 적다)\n",
    "- 예/적금은 많은데 전부다 비어있거나 거래가 안되는통장이라면?"
   ]
  },
  {
   "cell_type": "code",
   "execution_count": 22,
   "metadata": {},
   "outputs": [
    {
     "data": {
      "text/plain": [
       "0.014014524143202955"
      ]
     },
     "execution_count": 22,
     "metadata": {},
     "output_type": "execute_result"
    }
   ],
   "source": [
    "heavy_deposit = df['case_id'].value_counts().filter((pl.col('count')>=3) & (pl.col('count')<=18)).sort(by='case_id')\n",
    "heavy_deposit_case_ids = heavy_deposit['case_id'].to_list()\n",
    "filtered_df = base.filter(pl.col('case_id').is_in(heavy_deposit_case_ids))\n",
    "target_count = filtered_df.filter(pl.col('target') == 1)\n",
    "len(target_count) / len(filtered_df)"
   ]
  },
  {
   "cell_type": "code",
   "execution_count": 12,
   "metadata": {},
   "outputs": [],
   "source": [
    "ans = []\n",
    "for num in range(3, 33):\n",
    "    heavy_deposit = df['case_id'].value_counts().filter(pl.col('count')>=num).sort(by='case_id')\n",
    "    heavy_deposit_case_ids = heavy_deposit['case_id'].to_list()\n",
    "    filtered_df = base.filter(pl.col('case_id').is_in(heavy_deposit_case_ids))\n",
    "    target_count = filtered_df.filter(pl.col('target') == 1)\n",
    "    ratio = len(target_count) / len(filtered_df)\n",
    "    ans.append((num, ratio))"
   ]
  },
  {
   "cell_type": "code",
   "execution_count": 14,
   "metadata": {},
   "outputs": [
    {
     "data": {
      "text/plain": [
       "Text(0.5, 1.0, 'Default ratio according to the number of deposits')"
      ]
     },
     "execution_count": 14,
     "metadata": {},
     "output_type": "execute_result"
    },
    {
     "data": {
      "image/png": "[encoded data removed]",
      "text/plain": [
       "<Figure size 2000x600 with 1 Axes>"
      ]
     },
     "metadata": {},
     "output_type": "display_data"
    }
   ],
   "source": [
    "# 배열을 x와 y 리스트로 분리\n",
    "x_values = [item[0] for item in ans]\n",
    "y_values = [item[1] for item in ans]\n",
    "plt.figure(figsize=(20, 6))\n",
    "sns.barplot(x=x_values, y=y_values)\n",
    "plt.axhline(y=0.03143727577671242, color='r', linestyle='--', label='total_mean')\n",
    "plt.title('Default ratio according to the number of deposits', fontsize=20)"
   ]
  },
  {
   "cell_type": "code",
   "execution_count": 23,
   "metadata": {},
   "outputs": [
    {
     "data": {
      "text/html": [
       "<div><style>\n",
       ".dataframe > thead > tr,\n",
       ".dataframe > tbody > tr {\n",
       "  text-align: right;\n",
       "  white-space: pre-wrap;\n",
       "}\n",
       "</style>\n",
       "<small>shape: (145_086, 5)</small><table border=\"1\" class=\"dataframe\"><thead><tr><th>case_id</th><th>amount_416A</th><th>contractenddate_991D</th><th>openingdate_313D</th><th>saving</th></tr><tr><td>i64</td><td>f64</td><td>date</td><td>date</td><td>bool</td></tr></thead><tbody><tr><td>225</td><td>0.0</td><td>null</td><td>2016-08-16</td><td>false</td></tr><tr><td>331</td><td>260.374</td><td>2018-03-18</td><td>2015-03-19</td><td>true</td></tr><tr><td>358</td><td>0.0</td><td>null</td><td>2014-09-02</td><td>false</td></tr><tr><td>390</td><td>211748.53</td><td>2017-07-22</td><td>2014-07-23</td><td>true</td></tr><tr><td>390</td><td>223.68001</td><td>null</td><td>2016-06-08</td><td>false</td></tr><tr><td>390</td><td>203.602</td><td>2017-09-30</td><td>2015-10-01</td><td>true</td></tr><tr><td>445</td><td>23735.938</td><td>null</td><td>2016-07-19</td><td>false</td></tr><tr><td>445</td><td>0.0</td><td>2017-07-31</td><td>2015-08-01</td><td>true</td></tr><tr><td>445</td><td>0.0</td><td>null</td><td>2016-02-22</td><td>false</td></tr><tr><td>445</td><td>0.0</td><td>null</td><td>2015-04-27</td><td>false</td></tr><tr><td>445</td><td>0.0</td><td>2018-02-08</td><td>2015-12-10</td><td>true</td></tr><tr><td>450</td><td>0.0</td><td>null</td><td>2015-07-08</td><td>false</td></tr><tr><td>&hellip;</td><td>&hellip;</td><td>&hellip;</td><td>&hellip;</td><td>&hellip;</td></tr><tr><td>2703430</td><td>0.0</td><td>null</td><td>2015-12-11</td><td>false</td></tr><tr><td>2703430</td><td>0.0</td><td>null</td><td>2015-03-19</td><td>false</td></tr><tr><td>2703430</td><td>0.0</td><td>null</td><td>2013-09-02</td><td>false</td></tr><tr><td>2703430</td><td>0.0</td><td>null</td><td>2016-02-25</td><td>false</td></tr><tr><td>2703430</td><td>0.0</td><td>null</td><td>2015-03-19</td><td>false</td></tr><tr><td>2703430</td><td>0.0</td><td>null</td><td>2015-02-13</td><td>false</td></tr><tr><td>2703430</td><td>0.0</td><td>null</td><td>2015-08-25</td><td>false</td></tr><tr><td>2703430</td><td>22918.006</td><td>null</td><td>2016-11-26</td><td>false</td></tr><tr><td>2703430</td><td>0.0</td><td>null</td><td>2014-02-14</td><td>false</td></tr><tr><td>2703439</td><td>219.98401</td><td>null</td><td>2016-11-25</td><td>false</td></tr><tr><td>2703453</td><td>44916.645</td><td>2018-05-28</td><td>2015-05-29</td><td>true</td></tr><tr><td>2703453</td><td>0.0</td><td>null</td><td>2014-08-18</td><td>false</td></tr></tbody></table></div>"
      ],
      "text/plain": [
       "shape: (145_086, 5)\n",
       "┌─────────┬─────────────┬──────────────────────┬──────────────────┬────────┐\n",
       "│ case_id ┆ amount_416A ┆ contractenddate_991D ┆ openingdate_313D ┆ saving │\n",
       "│ ---     ┆ ---         ┆ ---                  ┆ ---              ┆ ---    │\n",
       "│ i64     ┆ f64         ┆ date                 ┆ date             ┆ bool   │\n",
       "╞═════════╪═════════════╪══════════════════════╪══════════════════╪════════╡\n",
       "│ 225     ┆ 0.0         ┆ null                 ┆ 2016-08-16       ┆ false  │\n",
       "│ 331     ┆ 260.374     ┆ 2018-03-18           ┆ 2015-03-19       ┆ true   │\n",
       "│ 358     ┆ 0.0         ┆ null                 ┆ 2014-09-02       ┆ false  │\n",
       "│ 390     ┆ 211748.53   ┆ 2017-07-22           ┆ 2014-07-23       ┆ true   │\n",
       "│ 390     ┆ 223.68001   ┆ null                 ┆ 2016-06-08       ┆ false  │\n",
       "│ …       ┆ …           ┆ …                    ┆ …                ┆ …      │\n",
       "│ 2703430 ┆ 22918.006   ┆ null                 ┆ 2016-11-26       ┆ false  │\n",
       "│ 2703430 ┆ 0.0         ┆ null                 ┆ 2014-02-14       ┆ false  │\n",
       "│ 2703439 ┆ 219.98401   ┆ null                 ┆ 2016-11-25       ┆ false  │\n",
       "│ 2703453 ┆ 44916.645   ┆ 2018-05-28           ┆ 2015-05-29       ┆ true   │\n",
       "│ 2703453 ┆ 0.0         ┆ null                 ┆ 2014-08-18       ┆ false  │\n",
       "└─────────┴─────────────┴──────────────────────┴──────────────────┴────────┘"
      ]
     },
     "execution_count": 23,
     "metadata": {},
     "output_type": "execute_result"
    }
   ],
   "source": [
    "df"
   ]
  },
  {
   "cell_type": "markdown",
   "metadata": {},
   "source": [
    "- deposit 이 많은 경우에 대한 검증.. 막막하다\n",
    "    - deposit 이 많을 떄, amount 가 0이 많으면 위험성이 높을 것 같다.\n",
    "    - 개수가 많을때 그 처리를 어떻게해야할까?\n",
    "\n",
    "- `일단 deposit 이 1개인 유저만 살펴보자`"
   ]
  },
  {
   "cell_type": "code",
   "execution_count": 69,
   "metadata": {},
   "outputs": [
    {
     "data": {
      "text/html": [
       "<div><style>\n",
       ".dataframe > thead > tr,\n",
       ".dataframe > tbody > tr {\n",
       "  text-align: right;\n",
       "  white-space: pre-wrap;\n",
       "}\n",
       "</style>\n",
       "<small>shape: (1, 2)</small><table border=\"1\" class=\"dataframe\"><thead><tr><th>case_id</th><th>count</th></tr><tr><td>bool</td><td>u32</td></tr></thead><tbody><tr><td>true</td><td>79066</td></tr></tbody></table></div>"
      ],
      "text/plain": [
       "shape: (1, 2)\n",
       "┌─────────┬───────┐\n",
       "│ case_id ┆ count │\n",
       "│ ---     ┆ ---   │\n",
       "│ bool    ┆ u32   │\n",
       "╞═════════╪═══════╡\n",
       "│ true    ┆ 79066 │\n",
       "└─────────┴───────┘"
      ]
     },
     "execution_count": 69,
     "metadata": {},
     "output_type": "execute_result"
    }
   ],
   "source": [
    "filtered_df = df.group_by('case_id').agg(pl.col('case_id').count().alias('count')).filter(pl.col('count') == 1)\n",
    "unique_case_ids = filtered_df.select('case_id')\n",
    "single_deposit_df = df.filter(pl.col('case_id').is_in(unique_case_ids['case_id'].to_list()))\n",
    "single_deposit_df['case_id'].is_unique().value_counts()"
   ]
  },
  {
   "cell_type": "code",
   "execution_count": 70,
   "metadata": {},
   "outputs": [
    {
     "data": {
      "text/html": [
       "<div><style>\n",
       ".dataframe > thead > tr,\n",
       ".dataframe > tbody > tr {\n",
       "  text-align: right;\n",
       "  white-space: pre-wrap;\n",
       "}\n",
       "</style>\n",
       "<small>shape: (79_066, 5)</small><table border=\"1\" class=\"dataframe\"><thead><tr><th>case_id</th><th>amount_416A</th><th>contractenddate_991D</th><th>openingdate_313D</th><th>saving</th></tr><tr><td>i64</td><td>f64</td><td>date</td><td>date</td><td>bool</td></tr></thead><tbody><tr><td>225</td><td>0.0</td><td>null</td><td>2016-08-16</td><td>false</td></tr><tr><td>331</td><td>260.374</td><td>2018-03-18</td><td>2015-03-19</td><td>true</td></tr><tr><td>358</td><td>0.0</td><td>null</td><td>2014-09-02</td><td>false</td></tr><tr><td>450</td><td>0.0</td><td>null</td><td>2015-07-08</td><td>false</td></tr><tr><td>582</td><td>827.77405</td><td>2018-10-02</td><td>2014-04-02</td><td>true</td></tr><tr><td>649</td><td>0.0</td><td>null</td><td>2014-04-21</td><td>false</td></tr><tr><td>697</td><td>0.0</td><td>null</td><td>2014-03-14</td><td>false</td></tr><tr><td>713</td><td>997.86</td><td>2018-04-01</td><td>2015-04-02</td><td>true</td></tr><tr><td>714</td><td>580.248</td><td>2018-05-25</td><td>2013-11-26</td><td>true</td></tr><tr><td>1074</td><td>1296.3981</td><td>null</td><td>2016-03-15</td><td>false</td></tr><tr><td>1084</td><td>9211.265</td><td>2018-03-08</td><td>2016-03-08</td><td>true</td></tr><tr><td>1091</td><td>272.252</td><td>null</td><td>2016-11-15</td><td>false</td></tr><tr><td>&hellip;</td><td>&hellip;</td><td>&hellip;</td><td>&hellip;</td><td>&hellip;</td></tr><tr><td>2703345</td><td>218.43999</td><td>null</td><td>2016-12-16</td><td>false</td></tr><tr><td>2703351</td><td>224.094</td><td>2017-12-13</td><td>2015-12-14</td><td>true</td></tr><tr><td>2703352</td><td>279.816</td><td>2018-10-03</td><td>2014-04-03</td><td>true</td></tr><tr><td>2703356</td><td>203.922</td><td>2017-08-04</td><td>2015-08-04</td><td>true</td></tr><tr><td>2703367</td><td>274.81003</td><td>2017-10-28</td><td>2014-10-29</td><td>true</td></tr><tr><td>2703380</td><td>256.56003</td><td>2018-04-26</td><td>2015-04-27</td><td>true</td></tr><tr><td>2703386</td><td>203.412</td><td>2017-11-03</td><td>2015-11-04</td><td>true</td></tr><tr><td>2703412</td><td>212.33202</td><td>null</td><td>2017-02-06</td><td>false</td></tr><tr><td>2703425</td><td>204.04001</td><td>2018-07-05</td><td>2015-07-06</td><td>true</td></tr><tr><td>2703426</td><td>1181.7361</td><td>2018-11-25</td><td>2015-11-26</td><td>true</td></tr><tr><td>2703427</td><td>250.76399</td><td>2018-06-25</td><td>2015-06-26</td><td>true</td></tr><tr><td>2703439</td><td>219.98401</td><td>null</td><td>2016-11-25</td><td>false</td></tr></tbody></table></div>"
      ],
      "text/plain": [
       "shape: (79_066, 5)\n",
       "┌─────────┬─────────────┬──────────────────────┬──────────────────┬────────┐\n",
       "│ case_id ┆ amount_416A ┆ contractenddate_991D ┆ openingdate_313D ┆ saving │\n",
       "│ ---     ┆ ---         ┆ ---                  ┆ ---              ┆ ---    │\n",
       "│ i64     ┆ f64         ┆ date                 ┆ date             ┆ bool   │\n",
       "╞═════════╪═════════════╪══════════════════════╪══════════════════╪════════╡\n",
       "│ 225     ┆ 0.0         ┆ null                 ┆ 2016-08-16       ┆ false  │\n",
       "│ 331     ┆ 260.374     ┆ 2018-03-18           ┆ 2015-03-19       ┆ true   │\n",
       "│ 358     ┆ 0.0         ┆ null                 ┆ 2014-09-02       ┆ false  │\n",
       "│ 450     ┆ 0.0         ┆ null                 ┆ 2015-07-08       ┆ false  │\n",
       "│ 582     ┆ 827.77405   ┆ 2018-10-02           ┆ 2014-04-02       ┆ true   │\n",
       "│ …       ┆ …           ┆ …                    ┆ …                ┆ …      │\n",
       "│ 2703412 ┆ 212.33202   ┆ null                 ┆ 2017-02-06       ┆ false  │\n",
       "│ 2703425 ┆ 204.04001   ┆ 2018-07-05           ┆ 2015-07-06       ┆ true   │\n",
       "│ 2703426 ┆ 1181.7361   ┆ 2018-11-25           ┆ 2015-11-26       ┆ true   │\n",
       "│ 2703427 ┆ 250.76399   ┆ 2018-06-25           ┆ 2015-06-26       ┆ true   │\n",
       "│ 2703439 ┆ 219.98401   ┆ null                 ┆ 2016-11-25       ┆ false  │\n",
       "└─────────┴─────────────┴──────────────────────┴──────────────────┴────────┘"
      ]
     },
     "execution_count": 70,
     "metadata": {},
     "output_type": "execute_result"
    }
   ],
   "source": [
    "single_deposit_df"
   ]
  },
  {
   "cell_type": "markdown",
   "metadata": {},
   "source": [
    "`예금이 많아질수록 default 가 줄어들까` "
   ]
  },
  {
   "cell_type": "code",
   "execution_count": 10,
   "metadata": {},
   "outputs": [],
   "source": [
    "df = df.select(pl.col('case_id', 'amount_416A'))"
   ]
  },
  {
   "cell_type": "code",
   "execution_count": 13,
   "metadata": {},
   "outputs": [],
   "source": [
    "df = df.group_by('case_id').agg(pl.sum('amount_416A').alias('total_amount')).sort(by='case_id')"
   ]
  },
  {
   "cell_type": "code",
   "execution_count": 17,
   "metadata": {},
   "outputs": [
    {
     "data": {
      "text/html": [
       "<div><style>\n",
       ".dataframe > thead > tr,\n",
       ".dataframe > tbody > tr {\n",
       "  text-align: right;\n",
       "  white-space: pre-wrap;\n",
       "}\n",
       "</style>\n",
       "<small>shape: (1, 2)</small><table border=\"1\" class=\"dataframe\"><thead><tr><th></th><th>count</th></tr><tr><td>bool</td><td>u32</td></tr></thead><tbody><tr><td>true</td><td>105111</td></tr></tbody></table></div>"
      ],
      "text/plain": [
       "shape: (1, 2)\n",
       "┌──────┬────────┐\n",
       "│      ┆ count  │\n",
       "│ ---  ┆ ---    │\n",
       "│ bool ┆ u32    │\n",
       "╞══════╪════════╡\n",
       "│ true ┆ 105111 │\n",
       "└──────┴────────┘"
      ]
     },
     "execution_count": 17,
     "metadata": {},
     "output_type": "execute_result"
    }
   ],
   "source": [
    "df.is_unique().value_counts()"
   ]
  },
  {
   "cell_type": "code",
   "execution_count": 19,
   "metadata": {},
   "outputs": [],
   "source": [
    "base = base.join(df, how='left', on='case_id')"
   ]
  },
  {
   "cell_type": "code",
   "execution_count": 20,
   "metadata": {},
   "outputs": [],
   "source": [
    "data = base.to_pandas()"
   ]
  },
  {
   "cell_type": "code",
   "execution_count": 21,
   "metadata": {},
   "outputs": [
    {
     "data": {
      "text/html": [
       "<div>\n",
       "<style scoped>\n",
       "    .dataframe tbody tr th:only-of-type {\n",
       "        vertical-align: middle;\n",
       "    }\n",
       "\n",
       "    .dataframe tbody tr th {\n",
       "        vertical-align: top;\n",
       "    }\n",
       "\n",
       "    .dataframe thead th {\n",
       "        text-align: right;\n",
       "    }\n",
       "</style>\n",
       "<table border=\"1\" class=\"dataframe\">\n",
       "  <thead>\n",
       "    <tr style=\"text-align: right;\">\n",
       "      <th></th>\n",
       "      <th>case_id</th>\n",
       "      <th>date_decision</th>\n",
       "      <th>MONTH</th>\n",
       "      <th>WEEK_NUM</th>\n",
       "      <th>target</th>\n",
       "      <th>total_amount</th>\n",
       "    </tr>\n",
       "  </thead>\n",
       "  <tbody>\n",
       "    <tr>\n",
       "      <th>0</th>\n",
       "      <td>0</td>\n",
       "      <td>2019-01-03</td>\n",
       "      <td>201901</td>\n",
       "      <td>0</td>\n",
       "      <td>0</td>\n",
       "      <td>NaN</td>\n",
       "    </tr>\n",
       "    <tr>\n",
       "      <th>1</th>\n",
       "      <td>1</td>\n",
       "      <td>2019-01-03</td>\n",
       "      <td>201901</td>\n",
       "      <td>0</td>\n",
       "      <td>0</td>\n",
       "      <td>NaN</td>\n",
       "    </tr>\n",
       "    <tr>\n",
       "      <th>2</th>\n",
       "      <td>2</td>\n",
       "      <td>2019-01-04</td>\n",
       "      <td>201901</td>\n",
       "      <td>0</td>\n",
       "      <td>0</td>\n",
       "      <td>NaN</td>\n",
       "    </tr>\n",
       "    <tr>\n",
       "      <th>3</th>\n",
       "      <td>3</td>\n",
       "      <td>2019-01-03</td>\n",
       "      <td>201901</td>\n",
       "      <td>0</td>\n",
       "      <td>0</td>\n",
       "      <td>NaN</td>\n",
       "    </tr>\n",
       "    <tr>\n",
       "      <th>4</th>\n",
       "      <td>4</td>\n",
       "      <td>2019-01-04</td>\n",
       "      <td>201901</td>\n",
       "      <td>0</td>\n",
       "      <td>1</td>\n",
       "      <td>NaN</td>\n",
       "    </tr>\n",
       "  </tbody>\n",
       "</table>\n",
       "</div>"
      ],
      "text/plain": [
       "   case_id date_decision   MONTH  WEEK_NUM  target  total_amount\n",
       "0        0    2019-01-03  201901         0       0           NaN\n",
       "1        1    2019-01-03  201901         0       0           NaN\n",
       "2        2    2019-01-04  201901         0       0           NaN\n",
       "3        3    2019-01-03  201901         0       0           NaN\n",
       "4        4    2019-01-04  201901         0       1           NaN"
      ]
     },
     "execution_count": 21,
     "metadata": {},
     "output_type": "execute_result"
    }
   ],
   "source": [
    "data.head()"
   ]
  },
  {
   "cell_type": "code",
   "execution_count": 35,
   "metadata": {},
   "outputs": [
    {
     "data": {
      "text/plain": [
       "604597.1"
      ]
     },
     "execution_count": 35,
     "metadata": {},
     "output_type": "execute_result"
    }
   ],
   "source": [
    "data.loc[(data['total_amount'].notnull()) & (data['target'] == 1), :]['total_amount'].max()"
   ]
  },
  {
   "cell_type": "code",
   "execution_count": 38,
   "metadata": {},
   "outputs": [
    {
     "data": {
      "text/html": [
       "<div>\n",
       "<style scoped>\n",
       "    .dataframe tbody tr th:only-of-type {\n",
       "        vertical-align: middle;\n",
       "    }\n",
       "\n",
       "    .dataframe tbody tr th {\n",
       "        vertical-align: top;\n",
       "    }\n",
       "\n",
       "    .dataframe thead th {\n",
       "        text-align: right;\n",
       "    }\n",
       "</style>\n",
       "<table border=\"1\" class=\"dataframe\">\n",
       "  <thead>\n",
       "    <tr style=\"text-align: right;\">\n",
       "      <th></th>\n",
       "      <th>case_id</th>\n",
       "      <th>date_decision</th>\n",
       "      <th>MONTH</th>\n",
       "      <th>WEEK_NUM</th>\n",
       "      <th>target</th>\n",
       "      <th>total_amount</th>\n",
       "    </tr>\n",
       "  </thead>\n",
       "  <tbody>\n",
       "    <tr>\n",
       "      <th>1661</th>\n",
       "      <td>1661</td>\n",
       "      <td>2019-01-18</td>\n",
       "      <td>201901</td>\n",
       "      <td>2</td>\n",
       "      <td>0</td>\n",
       "      <td>7.552770e+05</td>\n",
       "    </tr>\n",
       "    <tr>\n",
       "      <th>7926</th>\n",
       "      <td>7926</td>\n",
       "      <td>2019-03-13</td>\n",
       "      <td>201903</td>\n",
       "      <td>10</td>\n",
       "      <td>0</td>\n",
       "      <td>1.209916e+06</td>\n",
       "    </tr>\n",
       "    <tr>\n",
       "      <th>15917</th>\n",
       "      <td>15917</td>\n",
       "      <td>2019-05-23</td>\n",
       "      <td>201905</td>\n",
       "      <td>20</td>\n",
       "      <td>0</td>\n",
       "      <td>2.144371e+06</td>\n",
       "    </tr>\n",
       "    <tr>\n",
       "      <th>21457</th>\n",
       "      <td>21457</td>\n",
       "      <td>2019-07-04</td>\n",
       "      <td>201907</td>\n",
       "      <td>26</td>\n",
       "      <td>0</td>\n",
       "      <td>9.164972e+05</td>\n",
       "    </tr>\n",
       "    <tr>\n",
       "      <th>45863</th>\n",
       "      <td>45863</td>\n",
       "      <td>2020-02-11</td>\n",
       "      <td>202002</td>\n",
       "      <td>58</td>\n",
       "      <td>0</td>\n",
       "      <td>1.009793e+06</td>\n",
       "    </tr>\n",
       "    <tr>\n",
       "      <th>...</th>\n",
       "      <td>...</td>\n",
       "      <td>...</td>\n",
       "      <td>...</td>\n",
       "      <td>...</td>\n",
       "      <td>...</td>\n",
       "      <td>...</td>\n",
       "    </tr>\n",
       "    <tr>\n",
       "      <th>1493083</th>\n",
       "      <td>2669838</td>\n",
       "      <td>2020-02-22</td>\n",
       "      <td>202002</td>\n",
       "      <td>59</td>\n",
       "      <td>0</td>\n",
       "      <td>1.051929e+06</td>\n",
       "    </tr>\n",
       "    <tr>\n",
       "      <th>1494538</th>\n",
       "      <td>2671293</td>\n",
       "      <td>2020-02-26</td>\n",
       "      <td>202002</td>\n",
       "      <td>60</td>\n",
       "      <td>0</td>\n",
       "      <td>1.685585e+06</td>\n",
       "    </tr>\n",
       "    <tr>\n",
       "      <th>1513201</th>\n",
       "      <td>2689956</td>\n",
       "      <td>2020-07-29</td>\n",
       "      <td>202007</td>\n",
       "      <td>82</td>\n",
       "      <td>0</td>\n",
       "      <td>4.020477e+06</td>\n",
       "    </tr>\n",
       "    <tr>\n",
       "      <th>1518467</th>\n",
       "      <td>2695222</td>\n",
       "      <td>2020-08-26</td>\n",
       "      <td>202008</td>\n",
       "      <td>86</td>\n",
       "      <td>0</td>\n",
       "      <td>1.176869e+06</td>\n",
       "    </tr>\n",
       "    <tr>\n",
       "      <th>1518778</th>\n",
       "      <td>2695533</td>\n",
       "      <td>2020-08-27</td>\n",
       "      <td>202008</td>\n",
       "      <td>86</td>\n",
       "      <td>0</td>\n",
       "      <td>7.847251e+05</td>\n",
       "    </tr>\n",
       "  </tbody>\n",
       "</table>\n",
       "<p>364 rows × 6 columns</p>\n",
       "</div>"
      ],
      "text/plain": [
       "         case_id date_decision   MONTH  WEEK_NUM  target  total_amount\n",
       "1661        1661    2019-01-18  201901         2       0  7.552770e+05\n",
       "7926        7926    2019-03-13  201903        10       0  1.209916e+06\n",
       "15917      15917    2019-05-23  201905        20       0  2.144371e+06\n",
       "21457      21457    2019-07-04  201907        26       0  9.164972e+05\n",
       "45863      45863    2020-02-11  202002        58       0  1.009793e+06\n",
       "...          ...           ...     ...       ...     ...           ...\n",
       "1493083  2669838    2020-02-22  202002        59       0  1.051929e+06\n",
       "1494538  2671293    2020-02-26  202002        60       0  1.685585e+06\n",
       "1513201  2689956    2020-07-29  202007        82       0  4.020477e+06\n",
       "1518467  2695222    2020-08-26  202008        86       0  1.176869e+06\n",
       "1518778  2695533    2020-08-27  202008        86       0  7.847251e+05\n",
       "\n",
       "[364 rows x 6 columns]"
      ]
     },
     "execution_count": 38,
     "metadata": {},
     "output_type": "execute_result"
    }
   ],
   "source": [
    "data.loc[(data['total_amount'] > 605000) & (data['target'] == 0), :]"
   ]
  },
  {
   "cell_type": "code",
   "execution_count": 25,
   "metadata": {},
   "outputs": [
    {
     "data": {
      "text/plain": [
       "<Axes: xlabel='total_amount', ylabel='target'>"
      ]
     },
     "execution_count": 25,
     "metadata": {},
     "output_type": "execute_result"
    },
    {
     "data": {
      "image/png": "[encoded data removed]",
      "text/plain": [
       "<Figure size 640x480 with 1 Axes>"
      ]
     },
     "metadata": {},
     "output_type": "display_data"
    }
   ],
   "source": [
    "sns.scatterplot(data, x = 'total_amount', y='target')"
   ]
  }
 ],
 "metadata": {
  "kernelspec": {
   "display_name": "base",
   "language": "python",
   "name": "python3"
  },
  "language_info": {
   "codemirror_mode": {
    "name": "ipython",
    "version": 3
   },
   "file_extension": ".py",
   "mimetype": "text/x-python",
   "name": "python",
   "nbconvert_exporter": "python",
   "pygments_lexer": "ipython3",
   "version": "0.0.0"
  }
 },
 "nbformat": 4,
 "nbformat_minor": 2
}
