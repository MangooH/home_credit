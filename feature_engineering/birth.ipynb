{
 "cells": [
  {
   "cell_type": "code",
   "execution_count": 1,
   "metadata": {},
   "outputs": [],
   "source": [
    "import os, glob\n",
    "import pandas as pd\n",
    "import polars as pl\n",
    "import numpy as np\n",
    "import matplotlib.pyplot as plt\n",
    "import seaborn as sns\n",
    "from pathlib import Path\n",
    "\n",
    "PATH_DATASET = Path(\"../data\")\n",
    "PATH_PARQUETS = PATH_DATASET / \"parquet_files\"\n",
    "PARQUETS_TRAIN = PATH_PARQUETS / \"train\"\n",
    "PARQUETS_TEST = PATH_PARQUETS / \"test\"\n",
    "pd.set_option('display.max_columns', None)\n",
    "pd.set_option('display.max_rows', None)"
   ]
  },
  {
   "cell_type": "code",
   "execution_count": 42,
   "metadata": {},
   "outputs": [],
   "source": [
    "def check_parquets():\n",
    "    for p in glob.glob(str(PARQUETS_TRAIN / f\"*.parquet\")):\n",
    "        df_ = pl.read_parquet(p)\n",
    "        cols_with_birth = [col for col in df_.columns if 'birth' in col]\n",
    "        if cols_with_birth:\n",
    "            print((p.split('\\\\')[-1].split('.')[0], cols_with_birth))"
   ]
  },
  {
   "cell_type": "code",
   "execution_count": 41,
   "metadata": {},
   "outputs": [
    {
     "name": "stdout",
     "output_type": "stream",
     "text": [
      "('train_person_1', ['birth_259D', 'birthdate_87D'])\n",
      "('train_static_cb_0', ['birthdate_574D', 'dateofbirth_337D', 'dateofbirth_342D'])\n"
     ]
    }
   ],
   "source": [
    "check_parquets()"
   ]
  },
  {
   "cell_type": "code",
   "execution_count": null,
   "metadata": {},
   "outputs": [],
   "source": [
    "df_internal = pl.read_parquet(PARQUETS_TRAIN / 'train_person_1.parquet')\n",
    "df_internal = pl.read_parquet(PARQUETS_TRAIN / 'train_person_1.parquet')"
   ]
  },
  {
   "cell_type": "code",
   "execution_count": null,
   "metadata": {},
   "outputs": [],
   "source": []
  }
 ],
 "metadata": {
  "kernelspec": {
   "display_name": "base",
   "language": "python",
   "name": "python3"
  },
  "language_info": {
   "codemirror_mode": {
    "name": "ipython",
    "version": 3
   },
   "file_extension": ".py",
   "mimetype": "text/x-python",
   "name": "python",
   "nbconvert_exporter": "python",
   "pygments_lexer": "ipython3",
   "version": "3.11.5"
  }
 },
 "nbformat": 4,
 "nbformat_minor": 2
}
