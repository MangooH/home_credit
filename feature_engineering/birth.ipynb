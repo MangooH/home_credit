{
 "cells": [
  {
   "cell_type": "markdown",
   "metadata": {},
   "source": [
    "`Note`\n",
    "- case_id 가 중복되는 경우 첫 번째 row 만 값이 발견됨. \n",
    "- train_person_1 (internal_data) 의 'birthdate_87D' 는 null 값이 너무 많아 의미가 없어보임. 반면 'birth_259D' 는 tarin_base 와 동일한 rows 의 개수와 case_id 를 갖고 있다."
   ]
  },
  {
   "cell_type": "code",
   "execution_count": 1,
   "metadata": {},
   "outputs": [],
   "source": [
    "import os, glob\n",
    "import pandas as pd\n",
    "import polars as pl\n",
    "import numpy as np\n",
    "import matplotlib.pyplot as plt\n",
    "import seaborn as sns\n",
    "from pathlib import Path\n",
    "\n",
    "PATH_DATASET = Path(\"../data\")\n",
    "PATH_PARQUETS = PATH_DATASET / \"parquet_files\"\n",
    "PARQUETS_TRAIN = PATH_PARQUETS / \"train\"\n",
    "PARQUETS_TEST = PATH_PARQUETS / \"test\"\n",
    "pd.set_option('display.max_columns', None)\n",
    "pd.set_option('display.max_rows', None)"
   ]
  },
  {
   "cell_type": "code",
   "execution_count": 73,
   "metadata": {},
   "outputs": [
    {
     "data": {
      "text/html": [
       "<div><style>\n",
       ".dataframe > thead > tr,\n",
       ".dataframe > tbody > tr {\n",
       "  text-align: right;\n",
       "  white-space: pre-wrap;\n",
       "}\n",
       "</style>\n",
       "<small>shape: (1_526_659, 5)</small><table border=\"1\" class=\"dataframe\"><thead><tr><th>case_id</th><th>date_decision</th><th>MONTH</th><th>WEEK_NUM</th><th>target</th></tr><tr><td>i64</td><td>str</td><td>i64</td><td>i64</td><td>i64</td></tr></thead><tbody><tr><td>0</td><td>&quot;2019-01-03&quot;</td><td>201901</td><td>0</td><td>0</td></tr><tr><td>1</td><td>&quot;2019-01-03&quot;</td><td>201901</td><td>0</td><td>0</td></tr><tr><td>2</td><td>&quot;2019-01-04&quot;</td><td>201901</td><td>0</td><td>0</td></tr><tr><td>3</td><td>&quot;2019-01-03&quot;</td><td>201901</td><td>0</td><td>0</td></tr><tr><td>4</td><td>&quot;2019-01-04&quot;</td><td>201901</td><td>0</td><td>1</td></tr><tr><td>5</td><td>&quot;2019-01-02&quot;</td><td>201901</td><td>0</td><td>0</td></tr><tr><td>6</td><td>&quot;2019-01-03&quot;</td><td>201901</td><td>0</td><td>0</td></tr><tr><td>7</td><td>&quot;2019-01-03&quot;</td><td>201901</td><td>0</td><td>0</td></tr><tr><td>8</td><td>&quot;2019-01-03&quot;</td><td>201901</td><td>0</td><td>0</td></tr><tr><td>9</td><td>&quot;2019-01-03&quot;</td><td>201901</td><td>0</td><td>0</td></tr><tr><td>10</td><td>&quot;2019-01-03&quot;</td><td>201901</td><td>0</td><td>0</td></tr><tr><td>11</td><td>&quot;2019-01-03&quot;</td><td>201901</td><td>0</td><td>0</td></tr><tr><td>&hellip;</td><td>&hellip;</td><td>&hellip;</td><td>&hellip;</td><td>&hellip;</td></tr><tr><td>2703442</td><td>&quot;2020-10-05&quot;</td><td>202010</td><td>91</td><td>0</td></tr><tr><td>2703443</td><td>&quot;2020-10-05&quot;</td><td>202010</td><td>91</td><td>0</td></tr><tr><td>2703445</td><td>&quot;2020-10-05&quot;</td><td>202010</td><td>91</td><td>0</td></tr><tr><td>2703446</td><td>&quot;2020-10-05&quot;</td><td>202010</td><td>91</td><td>0</td></tr><tr><td>2703447</td><td>&quot;2020-10-05&quot;</td><td>202010</td><td>91</td><td>0</td></tr><tr><td>2703448</td><td>&quot;2020-10-05&quot;</td><td>202010</td><td>91</td><td>0</td></tr><tr><td>2703449</td><td>&quot;2020-10-05&quot;</td><td>202010</td><td>91</td><td>0</td></tr><tr><td>2703450</td><td>&quot;2020-10-05&quot;</td><td>202010</td><td>91</td><td>0</td></tr><tr><td>2703451</td><td>&quot;2020-10-05&quot;</td><td>202010</td><td>91</td><td>0</td></tr><tr><td>2703452</td><td>&quot;2020-10-05&quot;</td><td>202010</td><td>91</td><td>0</td></tr><tr><td>2703453</td><td>&quot;2020-10-05&quot;</td><td>202010</td><td>91</td><td>0</td></tr><tr><td>2703454</td><td>&quot;2020-10-05&quot;</td><td>202010</td><td>91</td><td>0</td></tr></tbody></table></div>"
      ],
      "text/plain": [
       "shape: (1_526_659, 5)\n",
       "┌─────────┬───────────────┬────────┬──────────┬────────┐\n",
       "│ case_id ┆ date_decision ┆ MONTH  ┆ WEEK_NUM ┆ target │\n",
       "│ ---     ┆ ---           ┆ ---    ┆ ---      ┆ ---    │\n",
       "│ i64     ┆ str           ┆ i64    ┆ i64      ┆ i64    │\n",
       "╞═════════╪═══════════════╪════════╪══════════╪════════╡\n",
       "│ 0       ┆ 2019-01-03    ┆ 201901 ┆ 0        ┆ 0      │\n",
       "│ 1       ┆ 2019-01-03    ┆ 201901 ┆ 0        ┆ 0      │\n",
       "│ 2       ┆ 2019-01-04    ┆ 201901 ┆ 0        ┆ 0      │\n",
       "│ 3       ┆ 2019-01-03    ┆ 201901 ┆ 0        ┆ 0      │\n",
       "│ 4       ┆ 2019-01-04    ┆ 201901 ┆ 0        ┆ 1      │\n",
       "│ …       ┆ …             ┆ …      ┆ …        ┆ …      │\n",
       "│ 2703450 ┆ 2020-10-05    ┆ 202010 ┆ 91       ┆ 0      │\n",
       "│ 2703451 ┆ 2020-10-05    ┆ 202010 ┆ 91       ┆ 0      │\n",
       "│ 2703452 ┆ 2020-10-05    ┆ 202010 ┆ 91       ┆ 0      │\n",
       "│ 2703453 ┆ 2020-10-05    ┆ 202010 ┆ 91       ┆ 0      │\n",
       "│ 2703454 ┆ 2020-10-05    ┆ 202010 ┆ 91       ┆ 0      │\n",
       "└─────────┴───────────────┴────────┴──────────┴────────┘"
      ]
     },
     "execution_count": 73,
     "metadata": {},
     "output_type": "execute_result"
    }
   ],
   "source": [
    "df_base = pl.read_parquet(PARQUETS_TRAIN / 'train_base.parquet')\n",
    "df_base"
   ]
  },
  {
   "cell_type": "code",
   "execution_count": 2,
   "metadata": {},
   "outputs": [],
   "source": [
    "def check_parquets():\n",
    "    for p in glob.glob(str(PARQUETS_TRAIN / f\"*.parquet\")):\n",
    "        df_ = pl.read_parquet(p)\n",
    "        cols_with_birth = [col for col in df_.columns if 'birth' in col]\n",
    "        if cols_with_birth:\n",
    "            print((p.split('\\\\')[-1], cols_with_birth))"
   ]
  },
  {
   "cell_type": "code",
   "execution_count": 3,
   "metadata": {},
   "outputs": [
    {
     "name": "stdout",
     "output_type": "stream",
     "text": [
      "('../data/parquet_files/train/train_person_1.parquet', ['birth_259D', 'birthdate_87D'])\n",
      "('../data/parquet_files/train/train_static_cb_0.parquet', ['birthdate_574D', 'dateofbirth_337D', 'dateofbirth_342D'])\n"
     ]
    }
   ],
   "source": [
    "check_parquets()"
   ]
  },
  {
   "cell_type": "code",
   "execution_count": 66,
   "metadata": {},
   "outputs": [],
   "source": [
    "df_internal = pl.read_parquet(PARQUETS_TRAIN / 'train_person_1.parquet')\n",
    "df_external = pl.read_parquet(PARQUETS_TRAIN / 'train_static_cb_0.parquet')"
   ]
  },
  {
   "cell_type": "code",
   "execution_count": 67,
   "metadata": {},
   "outputs": [],
   "source": [
    "df_internal_cols = ['case_id', 'birth_259D', 'birthdate_87D']\n",
    "df_external_cols = ['case_id', 'birthdate_574D', 'dateofbirth_337D', 'dateofbirth_342D']"
   ]
  },
  {
   "cell_type": "code",
   "execution_count": 68,
   "metadata": {},
   "outputs": [],
   "source": [
    "df_internal = df_internal.select(pl.col(df_internal_cols))\n",
    "df_external = df_external.select(pl.col(df_external_cols))"
   ]
  },
  {
   "cell_type": "code",
   "execution_count": 69,
   "metadata": {},
   "outputs": [
    {
     "data": {
      "text/html": [
       "<div><style>\n",
       ".dataframe > thead > tr,\n",
       ".dataframe > tbody > tr {\n",
       "  text-align: right;\n",
       "  white-space: pre-wrap;\n",
       "}\n",
       "</style>\n",
       "<small>shape: (1, 3)</small><table border=\"1\" class=\"dataframe\"><thead><tr><th>case_id</th><th>birth_259D</th><th>birthdate_87D</th></tr><tr><td>u32</td><td>u32</td><td>u32</td></tr></thead><tbody><tr><td>0</td><td>1447332</td><td>2949075</td></tr></tbody></table></div>"
      ],
      "text/plain": [
       "shape: (1, 3)\n",
       "┌─────────┬────────────┬───────────────┐\n",
       "│ case_id ┆ birth_259D ┆ birthdate_87D │\n",
       "│ ---     ┆ ---        ┆ ---           │\n",
       "│ u32     ┆ u32        ┆ u32           │\n",
       "╞═════════╪════════════╪═══════════════╡\n",
       "│ 0       ┆ 1447332    ┆ 2949075       │\n",
       "└─────────┴────────────┴───────────────┘"
      ]
     },
     "metadata": {},
     "output_type": "display_data"
    }
   ],
   "source": [
    "display(df_internal.null_count())\n",
    "\n",
    "# birthdate_87D 은 거의다 Null 값이므로 제외하는게 좋을 듯함\n",
    "df_internal = df_internal.select(pl.col('case_id', 'birth_259D'))"
   ]
  },
  {
   "cell_type": "code",
   "execution_count": 65,
   "metadata": {},
   "outputs": [
    {
     "data": {
      "text/html": [
       "<div><style>\n",
       ".dataframe > thead > tr,\n",
       ".dataframe > tbody > tr {\n",
       "  text-align: right;\n",
       "  white-space: pre-wrap;\n",
       "}\n",
       "</style>\n",
       "<small>shape: (2_973_991, 2)</small><table border=\"1\" class=\"dataframe\"><thead><tr><th>case_id</th><th>birth_259D</th></tr><tr><td>i64</td><td>str</td></tr></thead><tbody><tr><td>0</td><td>&quot;1986-07-01&quot;</td></tr><tr><td>0</td><td>null</td></tr><tr><td>0</td><td>null</td></tr><tr><td>0</td><td>null</td></tr><tr><td>1</td><td>&quot;1957-08-01&quot;</td></tr><tr><td>1</td><td>null</td></tr><tr><td>1</td><td>null</td></tr><tr><td>1</td><td>null</td></tr><tr><td>1</td><td>null</td></tr><tr><td>2</td><td>&quot;1974-12-01&quot;</td></tr><tr><td>2</td><td>null</td></tr><tr><td>2</td><td>null</td></tr><tr><td>&hellip;</td><td>&hellip;</td></tr><tr><td>2703446</td><td>null</td></tr><tr><td>2703446</td><td>null</td></tr><tr><td>2703447</td><td>&quot;1946-03-01&quot;</td></tr><tr><td>2703448</td><td>&quot;1964-08-01&quot;</td></tr><tr><td>2703449</td><td>&quot;1985-05-01&quot;</td></tr><tr><td>2703450</td><td>&quot;1960-01-01&quot;</td></tr><tr><td>2703451</td><td>&quot;1950-11-01&quot;</td></tr><tr><td>2703451</td><td>null</td></tr><tr><td>2703452</td><td>&quot;1977-08-01&quot;</td></tr><tr><td>2703453</td><td>&quot;1950-02-01&quot;</td></tr><tr><td>2703453</td><td>null</td></tr><tr><td>2703454</td><td>&quot;1948-04-01&quot;</td></tr></tbody></table></div>"
      ],
      "text/plain": [
       "shape: (2_973_991, 2)\n",
       "┌─────────┬────────────┐\n",
       "│ case_id ┆ birth_259D │\n",
       "│ ---     ┆ ---        │\n",
       "│ i64     ┆ str        │\n",
       "╞═════════╪════════════╡\n",
       "│ 0       ┆ 1986-07-01 │\n",
       "│ 0       ┆ null       │\n",
       "│ 0       ┆ null       │\n",
       "│ 0       ┆ null       │\n",
       "│ 1       ┆ 1957-08-01 │\n",
       "│ …       ┆ …          │\n",
       "│ 2703451 ┆ null       │\n",
       "│ 2703452 ┆ 1977-08-01 │\n",
       "│ 2703453 ┆ 1950-02-01 │\n",
       "│ 2703453 ┆ null       │\n",
       "│ 2703454 ┆ 1948-04-01 │\n",
       "└─────────┴────────────┘"
      ]
     },
     "execution_count": 65,
     "metadata": {},
     "output_type": "execute_result"
    }
   ],
   "source": [
    "df_internal\n",
    "\n",
    "# null 값을 처리하고 싶은데, 특이한 특징을 보임.\n",
    "# 중복되는 case_id 의 첫 번째 데이터만 null 값이 아님\n",
    "# 그게 맞는지 모든 rows 에 대해서 확인할 필요가 있음."
   ]
  },
  {
   "cell_type": "code",
   "execution_count": 71,
   "metadata": {},
   "outputs": [
    {
     "data": {
      "text/html": [
       "<div><style>\n",
       ".dataframe > thead > tr,\n",
       ".dataframe > tbody > tr {\n",
       "  text-align: right;\n",
       "  white-space: pre-wrap;\n",
       "}\n",
       "</style>\n",
       "<small>shape: (1, 2)</small><table border=\"1\" class=\"dataframe\"><thead><tr><th>case_id</th><th>birth_259D</th></tr><tr><td>u32</td><td>u32</td></tr></thead><tbody><tr><td>0</td><td>0</td></tr></tbody></table></div>"
      ],
      "text/plain": [
       "shape: (1, 2)\n",
       "┌─────────┬────────────┐\n",
       "│ case_id ┆ birth_259D │\n",
       "│ ---     ┆ ---        │\n",
       "│ u32     ┆ u32        │\n",
       "╞═════════╪════════════╡\n",
       "│ 0       ┆ 0          │\n",
       "└─────────┴────────────┘"
      ]
     },
     "execution_count": 71,
     "metadata": {},
     "output_type": "execute_result"
    }
   ],
   "source": [
    "df_internal.group_by(pl.col('case_id')).first().null_count()"
   ]
  },
  {
   "cell_type": "code",
   "execution_count": 77,
   "metadata": {},
   "outputs": [
    {
     "data": {
      "text/html": [
       "<div><style>\n",
       ".dataframe > thead > tr,\n",
       ".dataframe > tbody > tr {\n",
       "  text-align: right;\n",
       "  white-space: pre-wrap;\n",
       "}\n",
       "</style>\n",
       "<small>shape: (1_526_659, 2)</small><table border=\"1\" class=\"dataframe\"><thead><tr><th>case_id</th><th>birth_259D</th></tr><tr><td>i64</td><td>str</td></tr></thead><tbody><tr><td>0</td><td>&quot;1986-07-01&quot;</td></tr><tr><td>1</td><td>&quot;1957-08-01&quot;</td></tr><tr><td>2</td><td>&quot;1974-12-01&quot;</td></tr><tr><td>3</td><td>&quot;1993-08-01&quot;</td></tr><tr><td>4</td><td>&quot;1994-01-01&quot;</td></tr><tr><td>5</td><td>&quot;1979-10-01&quot;</td></tr><tr><td>6</td><td>&quot;1991-01-01&quot;</td></tr><tr><td>7</td><td>&quot;1993-09-01&quot;</td></tr><tr><td>8</td><td>&quot;1982-11-01&quot;</td></tr><tr><td>9</td><td>&quot;1949-10-01&quot;</td></tr><tr><td>10</td><td>&quot;1954-01-01&quot;</td></tr><tr><td>11</td><td>&quot;1963-10-01&quot;</td></tr><tr><td>&hellip;</td><td>&hellip;</td></tr><tr><td>2703442</td><td>&quot;1951-05-01&quot;</td></tr><tr><td>2703443</td><td>&quot;1969-01-01&quot;</td></tr><tr><td>2703445</td><td>&quot;1969-08-01&quot;</td></tr><tr><td>2703446</td><td>&quot;1955-12-01&quot;</td></tr><tr><td>2703447</td><td>&quot;1946-03-01&quot;</td></tr><tr><td>2703448</td><td>&quot;1964-08-01&quot;</td></tr><tr><td>2703449</td><td>&quot;1985-05-01&quot;</td></tr><tr><td>2703450</td><td>&quot;1960-01-01&quot;</td></tr><tr><td>2703451</td><td>&quot;1950-11-01&quot;</td></tr><tr><td>2703452</td><td>&quot;1977-08-01&quot;</td></tr><tr><td>2703453</td><td>&quot;1950-02-01&quot;</td></tr><tr><td>2703454</td><td>&quot;1948-04-01&quot;</td></tr></tbody></table></div>"
      ],
      "text/plain": [
       "shape: (1_526_659, 2)\n",
       "┌─────────┬────────────┐\n",
       "│ case_id ┆ birth_259D │\n",
       "│ ---     ┆ ---        │\n",
       "│ i64     ┆ str        │\n",
       "╞═════════╪════════════╡\n",
       "│ 0       ┆ 1986-07-01 │\n",
       "│ 1       ┆ 1957-08-01 │\n",
       "│ 2       ┆ 1974-12-01 │\n",
       "│ 3       ┆ 1993-08-01 │\n",
       "│ 4       ┆ 1994-01-01 │\n",
       "│ …       ┆ …          │\n",
       "│ 2703450 ┆ 1960-01-01 │\n",
       "│ 2703451 ┆ 1950-11-01 │\n",
       "│ 2703452 ┆ 1977-08-01 │\n",
       "│ 2703453 ┆ 1950-02-01 │\n",
       "│ 2703454 ┆ 1948-04-01 │\n",
       "└─────────┴────────────┘"
      ]
     },
     "execution_count": 77,
     "metadata": {},
     "output_type": "execute_result"
    }
   ],
   "source": [
    "df_internal = df_internal.group_by(pl.col('case_id')).first().sort(by='case_id')\n",
    "df_internal\n",
    "## tarin base 와 동일한 rows 개수임"
   ]
  },
  {
   "cell_type": "code",
   "execution_count": 79,
   "metadata": {},
   "outputs": [
    {
     "name": "stdout",
     "output_type": "stream",
     "text": [
      "True\n"
     ]
    }
   ],
   "source": [
    "# df_internal와 df_train에서 'case_id' 열을 추출합니다.\n",
    "case_ids_internal = df_internal['case_id']\n",
    "case_ids_base = df_base['case_id']\n",
    "\n",
    "# 각 'case_id' 열의 고유한 값들을 확인합니다.\n",
    "unique_case_ids_internal = set(case_ids_internal.to_list())\n",
    "unique_case_ids_train = set(case_ids_base.to_list())\n",
    "\n",
    "# 두 데이터프레임의 'case_id' 열의 고유한 값이 서로 일치하는지 확인합니다.\n",
    "if unique_case_ids_internal == unique_case_ids_train:\n",
    "    print(True)\n",
    "else:\n",
    "    print(False)"
   ]
  },
  {
   "cell_type": "markdown",
   "metadata": {},
   "source": [
    "`external`"
   ]
  },
  {
   "cell_type": "code",
   "execution_count": 80,
   "metadata": {},
   "outputs": [
    {
     "data": {
      "text/html": [
       "<div><style>\n",
       ".dataframe > thead > tr,\n",
       ".dataframe > tbody > tr {\n",
       "  text-align: right;\n",
       "  white-space: pre-wrap;\n",
       "}\n",
       "</style>\n",
       "<small>shape: (1_500_476, 4)</small><table border=\"1\" class=\"dataframe\"><thead><tr><th>case_id</th><th>birthdate_574D</th><th>dateofbirth_337D</th><th>dateofbirth_342D</th></tr><tr><td>i64</td><td>str</td><td>str</td><td>str</td></tr></thead><tbody><tr><td>357</td><td>&quot;1988-04-01&quot;</td><td>null</td><td>null</td></tr><tr><td>381</td><td>&quot;1973-11-01&quot;</td><td>null</td><td>null</td></tr><tr><td>388</td><td>&quot;1989-04-01&quot;</td><td>&quot;1989-04-01&quot;</td><td>null</td></tr><tr><td>405</td><td>&quot;1974-03-01&quot;</td><td>&quot;1974-03-01&quot;</td><td>null</td></tr><tr><td>409</td><td>&quot;1993-06-01&quot;</td><td>&quot;1993-06-01&quot;</td><td>null</td></tr><tr><td>410</td><td>&quot;1978-06-01&quot;</td><td>&quot;1978-06-01&quot;</td><td>null</td></tr><tr><td>411</td><td>&quot;1959-07-01&quot;</td><td>&quot;1959-07-01&quot;</td><td>null</td></tr><tr><td>412</td><td>&quot;1969-01-01&quot;</td><td>null</td><td>null</td></tr><tr><td>413</td><td>&quot;1955-12-01&quot;</td><td>null</td><td>null</td></tr><tr><td>414</td><td>&quot;1961-06-01&quot;</td><td>&quot;1961-06-01&quot;</td><td>null</td></tr><tr><td>415</td><td>&quot;1955-09-01&quot;</td><td>&quot;1955-09-01&quot;</td><td>null</td></tr><tr><td>416</td><td>&quot;1994-03-01&quot;</td><td>&quot;1994-03-01&quot;</td><td>null</td></tr><tr><td>&hellip;</td><td>&hellip;</td><td>&hellip;</td><td>&hellip;</td></tr><tr><td>2703442</td><td>null</td><td>&quot;1951-05-01&quot;</td><td>null</td></tr><tr><td>2703443</td><td>null</td><td>&quot;1969-01-01&quot;</td><td>null</td></tr><tr><td>2703445</td><td>null</td><td>&quot;1969-08-01&quot;</td><td>null</td></tr><tr><td>2703446</td><td>null</td><td>&quot;1955-12-01&quot;</td><td>null</td></tr><tr><td>2703447</td><td>null</td><td>&quot;1946-03-01&quot;</td><td>null</td></tr><tr><td>2703448</td><td>null</td><td>&quot;1964-08-01&quot;</td><td>null</td></tr><tr><td>2703449</td><td>null</td><td>&quot;1985-05-01&quot;</td><td>null</td></tr><tr><td>2703450</td><td>null</td><td>&quot;1960-01-01&quot;</td><td>null</td></tr><tr><td>2703451</td><td>null</td><td>&quot;1950-11-01&quot;</td><td>null</td></tr><tr><td>2703452</td><td>null</td><td>&quot;1977-08-01&quot;</td><td>null</td></tr><tr><td>2703453</td><td>null</td><td>&quot;1950-02-01&quot;</td><td>null</td></tr><tr><td>2703454</td><td>null</td><td>&quot;1948-04-01&quot;</td><td>null</td></tr></tbody></table></div>"
      ],
      "text/plain": [
       "shape: (1_500_476, 4)\n",
       "┌─────────┬────────────────┬──────────────────┬──────────────────┐\n",
       "│ case_id ┆ birthdate_574D ┆ dateofbirth_337D ┆ dateofbirth_342D │\n",
       "│ ---     ┆ ---            ┆ ---              ┆ ---              │\n",
       "│ i64     ┆ str            ┆ str              ┆ str              │\n",
       "╞═════════╪════════════════╪══════════════════╪══════════════════╡\n",
       "│ 357     ┆ 1988-04-01     ┆ null             ┆ null             │\n",
       "│ 381     ┆ 1973-11-01     ┆ null             ┆ null             │\n",
       "│ 388     ┆ 1989-04-01     ┆ 1989-04-01       ┆ null             │\n",
       "│ 405     ┆ 1974-03-01     ┆ 1974-03-01       ┆ null             │\n",
       "│ 409     ┆ 1993-06-01     ┆ 1993-06-01       ┆ null             │\n",
       "│ …       ┆ …              ┆ …                ┆ …                │\n",
       "│ 2703450 ┆ null           ┆ 1960-01-01       ┆ null             │\n",
       "│ 2703451 ┆ null           ┆ 1950-11-01       ┆ null             │\n",
       "│ 2703452 ┆ null           ┆ 1977-08-01       ┆ null             │\n",
       "│ 2703453 ┆ null           ┆ 1950-02-01       ┆ null             │\n",
       "│ 2703454 ┆ null           ┆ 1948-04-01       ┆ null             │\n",
       "└─────────┴────────────────┴──────────────────┴──────────────────┘"
      ]
     },
     "execution_count": 80,
     "metadata": {},
     "output_type": "execute_result"
    }
   ],
   "source": [
    "df_external\n",
    "## train_base 보다 부족한 Row 개수를 갖는다."
   ]
  },
  {
   "cell_type": "code",
   "execution_count": 83,
   "metadata": {},
   "outputs": [
    {
     "data": {
      "text/html": [
       "<div><style>\n",
       ".dataframe > thead > tr,\n",
       ".dataframe > tbody > tr {\n",
       "  text-align: right;\n",
       "  white-space: pre-wrap;\n",
       "}\n",
       "</style>\n",
       "<small>shape: (1, 4)</small><table border=\"1\" class=\"dataframe\"><thead><tr><th>case_id</th><th>birthdate_574D</th><th>dateofbirth_337D</th><th>dateofbirth_342D</th></tr><tr><td>f64</td><td>f64</td><td>f64</td><td>f64</td></tr></thead><tbody><tr><td>0.0</td><td>0.594881</td><td>0.076499</td><td>0.975674</td></tr></tbody></table></div>"
      ],
      "text/plain": [
       "shape: (1, 4)\n",
       "┌─────────┬────────────────┬──────────────────┬──────────────────┐\n",
       "│ case_id ┆ birthdate_574D ┆ dateofbirth_337D ┆ dateofbirth_342D │\n",
       "│ ---     ┆ ---            ┆ ---              ┆ ---              │\n",
       "│ f64     ┆ f64            ┆ f64              ┆ f64              │\n",
       "╞═════════╪════════════════╪══════════════════╪══════════════════╡\n",
       "│ 0.0     ┆ 0.594881       ┆ 0.076499         ┆ 0.975674         │\n",
       "└─────────┴────────────────┴──────────────────┴──────────────────┘"
      ]
     },
     "metadata": {},
     "output_type": "display_data"
    }
   ],
   "source": [
    "display(df_external.null_count() / len(df_external))\n",
    "df_external = df_external.select(pl.exclude('dateofbirth_342D'))\n",
    "# dateofbirth_342D 는 null data 가 너무 많아 제외."
   ]
  },
  {
   "cell_type": "code",
   "execution_count": 84,
   "metadata": {},
   "outputs": [
    {
     "data": {
      "text/html": [
       "<div><style>\n",
       ".dataframe > thead > tr,\n",
       ".dataframe > tbody > tr {\n",
       "  text-align: right;\n",
       "  white-space: pre-wrap;\n",
       "}\n",
       "</style>\n",
       "<small>shape: (1_500_476, 3)</small><table border=\"1\" class=\"dataframe\"><thead><tr><th>case_id</th><th>birthdate_574D</th><th>dateofbirth_337D</th></tr><tr><td>i64</td><td>str</td><td>str</td></tr></thead><tbody><tr><td>357</td><td>&quot;1988-04-01&quot;</td><td>null</td></tr><tr><td>381</td><td>&quot;1973-11-01&quot;</td><td>null</td></tr><tr><td>388</td><td>&quot;1989-04-01&quot;</td><td>&quot;1989-04-01&quot;</td></tr><tr><td>405</td><td>&quot;1974-03-01&quot;</td><td>&quot;1974-03-01&quot;</td></tr><tr><td>409</td><td>&quot;1993-06-01&quot;</td><td>&quot;1993-06-01&quot;</td></tr><tr><td>410</td><td>&quot;1978-06-01&quot;</td><td>&quot;1978-06-01&quot;</td></tr><tr><td>411</td><td>&quot;1959-07-01&quot;</td><td>&quot;1959-07-01&quot;</td></tr><tr><td>412</td><td>&quot;1969-01-01&quot;</td><td>null</td></tr><tr><td>413</td><td>&quot;1955-12-01&quot;</td><td>null</td></tr><tr><td>414</td><td>&quot;1961-06-01&quot;</td><td>&quot;1961-06-01&quot;</td></tr><tr><td>415</td><td>&quot;1955-09-01&quot;</td><td>&quot;1955-09-01&quot;</td></tr><tr><td>416</td><td>&quot;1994-03-01&quot;</td><td>&quot;1994-03-01&quot;</td></tr><tr><td>&hellip;</td><td>&hellip;</td><td>&hellip;</td></tr><tr><td>2703442</td><td>null</td><td>&quot;1951-05-01&quot;</td></tr><tr><td>2703443</td><td>null</td><td>&quot;1969-01-01&quot;</td></tr><tr><td>2703445</td><td>null</td><td>&quot;1969-08-01&quot;</td></tr><tr><td>2703446</td><td>null</td><td>&quot;1955-12-01&quot;</td></tr><tr><td>2703447</td><td>null</td><td>&quot;1946-03-01&quot;</td></tr><tr><td>2703448</td><td>null</td><td>&quot;1964-08-01&quot;</td></tr><tr><td>2703449</td><td>null</td><td>&quot;1985-05-01&quot;</td></tr><tr><td>2703450</td><td>null</td><td>&quot;1960-01-01&quot;</td></tr><tr><td>2703451</td><td>null</td><td>&quot;1950-11-01&quot;</td></tr><tr><td>2703452</td><td>null</td><td>&quot;1977-08-01&quot;</td></tr><tr><td>2703453</td><td>null</td><td>&quot;1950-02-01&quot;</td></tr><tr><td>2703454</td><td>null</td><td>&quot;1948-04-01&quot;</td></tr></tbody></table></div>"
      ],
      "text/plain": [
       "shape: (1_500_476, 3)\n",
       "┌─────────┬────────────────┬──────────────────┐\n",
       "│ case_id ┆ birthdate_574D ┆ dateofbirth_337D │\n",
       "│ ---     ┆ ---            ┆ ---              │\n",
       "│ i64     ┆ str            ┆ str              │\n",
       "╞═════════╪════════════════╪══════════════════╡\n",
       "│ 357     ┆ 1988-04-01     ┆ null             │\n",
       "│ 381     ┆ 1973-11-01     ┆ null             │\n",
       "│ 388     ┆ 1989-04-01     ┆ 1989-04-01       │\n",
       "│ 405     ┆ 1974-03-01     ┆ 1974-03-01       │\n",
       "│ 409     ┆ 1993-06-01     ┆ 1993-06-01       │\n",
       "│ …       ┆ …              ┆ …                │\n",
       "│ 2703450 ┆ null           ┆ 1960-01-01       │\n",
       "│ 2703451 ┆ null           ┆ 1950-11-01       │\n",
       "│ 2703452 ┆ null           ┆ 1977-08-01       │\n",
       "│ 2703453 ┆ null           ┆ 1950-02-01       │\n",
       "│ 2703454 ┆ null           ┆ 1948-04-01       │\n",
       "└─────────┴────────────────┴──────────────────┘"
      ]
     },
     "execution_count": 84,
     "metadata": {},
     "output_type": "execute_result"
    }
   ],
   "source": [
    "df_external"
   ]
  },
  {
   "cell_type": "code",
   "execution_count": 90,
   "metadata": {},
   "outputs": [
    {
     "name": "stdout",
     "output_type": "stream",
     "text": [
      "True\n"
     ]
    }
   ],
   "source": [
    "case_ids_internal = df_internal['case_id'].to_list()\n",
    "case_ids_external = df_external['case_id'].to_list()\n",
    "\n",
    "unique_case_ids_internal = set(case_ids_internal)\n",
    "unique_case_ids_external = set(case_ids_external)\n",
    "\n",
    "if unique_case_ids_external.issubset(unique_case_ids_internal):\n",
    "    print(True)\n",
    "else:\n",
    "    print(False)"
   ]
  },
  {
   "cell_type": "code",
   "execution_count": 91,
   "metadata": {},
   "outputs": [
    {
     "data": {
      "text/html": [
       "<div><style>\n",
       ".dataframe > thead > tr,\n",
       ".dataframe > tbody > tr {\n",
       "  text-align: right;\n",
       "  white-space: pre-wrap;\n",
       "}\n",
       "</style>\n",
       "<small>shape: (1_526_659, 4)</small><table border=\"1\" class=\"dataframe\"><thead><tr><th>case_id</th><th>birth_259D</th><th>birthdate_574D</th><th>dateofbirth_337D</th></tr><tr><td>i64</td><td>str</td><td>str</td><td>str</td></tr></thead><tbody><tr><td>0</td><td>&quot;1986-07-01&quot;</td><td>null</td><td>null</td></tr><tr><td>1</td><td>&quot;1957-08-01&quot;</td><td>null</td><td>null</td></tr><tr><td>2</td><td>&quot;1974-12-01&quot;</td><td>null</td><td>null</td></tr><tr><td>3</td><td>&quot;1993-08-01&quot;</td><td>null</td><td>null</td></tr><tr><td>4</td><td>&quot;1994-01-01&quot;</td><td>null</td><td>null</td></tr><tr><td>5</td><td>&quot;1979-10-01&quot;</td><td>null</td><td>null</td></tr><tr><td>6</td><td>&quot;1991-01-01&quot;</td><td>null</td><td>null</td></tr><tr><td>7</td><td>&quot;1993-09-01&quot;</td><td>null</td><td>null</td></tr><tr><td>8</td><td>&quot;1982-11-01&quot;</td><td>null</td><td>null</td></tr><tr><td>9</td><td>&quot;1949-10-01&quot;</td><td>null</td><td>null</td></tr><tr><td>10</td><td>&quot;1954-01-01&quot;</td><td>null</td><td>null</td></tr><tr><td>11</td><td>&quot;1963-10-01&quot;</td><td>null</td><td>null</td></tr><tr><td>&hellip;</td><td>&hellip;</td><td>&hellip;</td><td>&hellip;</td></tr><tr><td>2703442</td><td>&quot;1951-05-01&quot;</td><td>null</td><td>&quot;1951-05-01&quot;</td></tr><tr><td>2703443</td><td>&quot;1969-01-01&quot;</td><td>null</td><td>&quot;1969-01-01&quot;</td></tr><tr><td>2703445</td><td>&quot;1969-08-01&quot;</td><td>null</td><td>&quot;1969-08-01&quot;</td></tr><tr><td>2703446</td><td>&quot;1955-12-01&quot;</td><td>null</td><td>&quot;1955-12-01&quot;</td></tr><tr><td>2703447</td><td>&quot;1946-03-01&quot;</td><td>null</td><td>&quot;1946-03-01&quot;</td></tr><tr><td>2703448</td><td>&quot;1964-08-01&quot;</td><td>null</td><td>&quot;1964-08-01&quot;</td></tr><tr><td>2703449</td><td>&quot;1985-05-01&quot;</td><td>null</td><td>&quot;1985-05-01&quot;</td></tr><tr><td>2703450</td><td>&quot;1960-01-01&quot;</td><td>null</td><td>&quot;1960-01-01&quot;</td></tr><tr><td>2703451</td><td>&quot;1950-11-01&quot;</td><td>null</td><td>&quot;1950-11-01&quot;</td></tr><tr><td>2703452</td><td>&quot;1977-08-01&quot;</td><td>null</td><td>&quot;1977-08-01&quot;</td></tr><tr><td>2703453</td><td>&quot;1950-02-01&quot;</td><td>null</td><td>&quot;1950-02-01&quot;</td></tr><tr><td>2703454</td><td>&quot;1948-04-01&quot;</td><td>null</td><td>&quot;1948-04-01&quot;</td></tr></tbody></table></div>"
      ],
      "text/plain": [
       "shape: (1_526_659, 4)\n",
       "┌─────────┬────────────┬────────────────┬──────────────────┐\n",
       "│ case_id ┆ birth_259D ┆ birthdate_574D ┆ dateofbirth_337D │\n",
       "│ ---     ┆ ---        ┆ ---            ┆ ---              │\n",
       "│ i64     ┆ str        ┆ str            ┆ str              │\n",
       "╞═════════╪════════════╪════════════════╪══════════════════╡\n",
       "│ 0       ┆ 1986-07-01 ┆ null           ┆ null             │\n",
       "│ 1       ┆ 1957-08-01 ┆ null           ┆ null             │\n",
       "│ 2       ┆ 1974-12-01 ┆ null           ┆ null             │\n",
       "│ 3       ┆ 1993-08-01 ┆ null           ┆ null             │\n",
       "│ 4       ┆ 1994-01-01 ┆ null           ┆ null             │\n",
       "│ …       ┆ …          ┆ …              ┆ …                │\n",
       "│ 2703450 ┆ 1960-01-01 ┆ null           ┆ 1960-01-01       │\n",
       "│ 2703451 ┆ 1950-11-01 ┆ null           ┆ 1950-11-01       │\n",
       "│ 2703452 ┆ 1977-08-01 ┆ null           ┆ 1977-08-01       │\n",
       "│ 2703453 ┆ 1950-02-01 ┆ null           ┆ 1950-02-01       │\n",
       "│ 2703454 ┆ 1948-04-01 ┆ null           ┆ 1948-04-01       │\n",
       "└─────────┴────────────┴────────────────┴──────────────────┘"
      ]
     },
     "execution_count": 91,
     "metadata": {},
     "output_type": "execute_result"
    }
   ],
   "source": [
    "df = df_internal.join(df_external, on='case_id', how='left')\n",
    "df"
   ]
  },
  {
   "cell_type": "code",
   "execution_count": 111,
   "metadata": {},
   "outputs": [
    {
     "data": {
      "text/html": [
       "<div><style>\n",
       ".dataframe > thead > tr,\n",
       ".dataframe > tbody > tr {\n",
       "  text-align: right;\n",
       "  white-space: pre-wrap;\n",
       "}\n",
       "</style>\n",
       "<small>shape: (1_526_659, 4)</small><table border=\"1\" class=\"dataframe\"><thead><tr><th>case_id</th><th>birth_259D</th><th>birthdate_574D</th><th>dateofbirth_337D</th></tr><tr><td>i64</td><td>date</td><td>date</td><td>date</td></tr></thead><tbody><tr><td>0</td><td>1986-07-01</td><td>null</td><td>null</td></tr><tr><td>1</td><td>1957-08-01</td><td>null</td><td>null</td></tr><tr><td>2</td><td>1974-12-01</td><td>null</td><td>null</td></tr><tr><td>3</td><td>1993-08-01</td><td>null</td><td>null</td></tr><tr><td>4</td><td>1994-01-01</td><td>null</td><td>null</td></tr><tr><td>5</td><td>1979-10-01</td><td>null</td><td>null</td></tr><tr><td>6</td><td>1991-01-01</td><td>null</td><td>null</td></tr><tr><td>7</td><td>1993-09-01</td><td>null</td><td>null</td></tr><tr><td>8</td><td>1982-11-01</td><td>null</td><td>null</td></tr><tr><td>9</td><td>1949-10-01</td><td>null</td><td>null</td></tr><tr><td>10</td><td>1954-01-01</td><td>null</td><td>null</td></tr><tr><td>11</td><td>1963-10-01</td><td>null</td><td>null</td></tr><tr><td>&hellip;</td><td>&hellip;</td><td>&hellip;</td><td>&hellip;</td></tr><tr><td>2703442</td><td>1951-05-01</td><td>null</td><td>1951-05-01</td></tr><tr><td>2703443</td><td>1969-01-01</td><td>null</td><td>1969-01-01</td></tr><tr><td>2703445</td><td>1969-08-01</td><td>null</td><td>1969-08-01</td></tr><tr><td>2703446</td><td>1955-12-01</td><td>null</td><td>1955-12-01</td></tr><tr><td>2703447</td><td>1946-03-01</td><td>null</td><td>1946-03-01</td></tr><tr><td>2703448</td><td>1964-08-01</td><td>null</td><td>1964-08-01</td></tr><tr><td>2703449</td><td>1985-05-01</td><td>null</td><td>1985-05-01</td></tr><tr><td>2703450</td><td>1960-01-01</td><td>null</td><td>1960-01-01</td></tr><tr><td>2703451</td><td>1950-11-01</td><td>null</td><td>1950-11-01</td></tr><tr><td>2703452</td><td>1977-08-01</td><td>null</td><td>1977-08-01</td></tr><tr><td>2703453</td><td>1950-02-01</td><td>null</td><td>1950-02-01</td></tr><tr><td>2703454</td><td>1948-04-01</td><td>null</td><td>1948-04-01</td></tr></tbody></table></div>"
      ],
      "text/plain": [
       "shape: (1_526_659, 4)\n",
       "┌─────────┬────────────┬────────────────┬──────────────────┐\n",
       "│ case_id ┆ birth_259D ┆ birthdate_574D ┆ dateofbirth_337D │\n",
       "│ ---     ┆ ---        ┆ ---            ┆ ---              │\n",
       "│ i64     ┆ date       ┆ date           ┆ date             │\n",
       "╞═════════╪════════════╪════════════════╪══════════════════╡\n",
       "│ 0       ┆ 1986-07-01 ┆ null           ┆ null             │\n",
       "│ 1       ┆ 1957-08-01 ┆ null           ┆ null             │\n",
       "│ 2       ┆ 1974-12-01 ┆ null           ┆ null             │\n",
       "│ 3       ┆ 1993-08-01 ┆ null           ┆ null             │\n",
       "│ 4       ┆ 1994-01-01 ┆ null           ┆ null             │\n",
       "│ …       ┆ …          ┆ …              ┆ …                │\n",
       "│ 2703450 ┆ 1960-01-01 ┆ null           ┆ 1960-01-01       │\n",
       "│ 2703451 ┆ 1950-11-01 ┆ null           ┆ 1950-11-01       │\n",
       "│ 2703452 ┆ 1977-08-01 ┆ null           ┆ 1977-08-01       │\n",
       "│ 2703453 ┆ 1950-02-01 ┆ null           ┆ 1950-02-01       │\n",
       "│ 2703454 ┆ 1948-04-01 ┆ null           ┆ 1948-04-01       │\n",
       "└─────────┴────────────┴────────────────┴──────────────────┘"
      ]
     },
     "execution_count": 111,
     "metadata": {},
     "output_type": "execute_result"
    }
   ],
   "source": [
    "df.with_columns(\n",
    "    [\n",
    "        (pl.col('birth_259D').str.to_datetime().dt.date()),\n",
    "        (pl.col('birthdate_574D').str.to_datetime().dt.date()),\n",
    "        (pl.col('dateofbirth_337D').str.to_datetime().dt.date()),\n",
    "    ]\n",
    ")        "
   ]
  },
  {
   "cell_type": "code",
   "execution_count": null,
   "metadata": {},
   "outputs": [],
   "source": []
  }
 ],
 "metadata": {
  "kernelspec": {
   "display_name": "base",
   "language": "python",
   "name": "python3"
  },
  "language_info": {
   "codemirror_mode": {
    "name": "ipython",
    "version": 3
   },
   "file_extension": ".py",
   "mimetype": "text/x-python",
   "name": "python",
   "nbconvert_exporter": "python",
   "pygments_lexer": "ipython3",
   "version": "3.11.5"
  }
 },
 "nbformat": 4,
 "nbformat_minor": 2
}
