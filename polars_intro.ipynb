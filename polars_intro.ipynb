{
 "cells": [
  {
   "cell_type": "markdown",
   "metadata": {},
   "source": [
    "### Introduction\n",
    "\n",
    "이번 kaggle 의 [Home Credit - Credit Risk Model Stability](https://www.kaggle.com/competitions/home-credit-credit-risk-model-stability) 를 참여하게 되면서, 처음으로 BigData-Scale Datasets을 다루게 되었다.</br>\n",
    "\n",
    "평소와 같이 pandas 를 사용하여 여러 EDA 를 진행하는 과정에서 속도가 너무 느리고,\n",
    "심지어는 멈추는 현상까지 발생하였다. 대회의 public code 에서 많은 유저들이 `polars` library 를 사용하는 것을 확인했고 이는 Rust 기반 라이브러리이다. 러스트는 **Ownership** 이라는 기능을 사용하여 Garbage Collection 에 의존하지 않고 빠르고 안정적인 메모리 관리를 구현한 것으로 알고있다.</br>\n",
    "\n",
    "pandas 는 아주 많이 사용되고 있어 포기할 수 없지만, 비슷한 기능이 구현된 `polars`를 익혀두어 적절하게 사용할 수 있으면 좋을 것 같다.\n",
    "\n"
   ]
  },
  {
   "cell_type": "markdown",
   "metadata": {},
   "source": [
    "## Polars"
   ]
  },
  {
   "cell_type": "markdown",
   "metadata": {},
   "source": [
    "#### why polars?\n",
    "\n",
    "pandas 는 훌륭한 라이브러리지만, 가장 많이 이야기가 나오는 문제는 아래와 같다.\n",
    "- performance and awkward\n",
    "- complex API.\n",
    "\n",
    "Polars는 처음에 Richie Vink가 이러한 문제를 해결하기 위해 개발되었고 아래와 같은 철학이 있다고 한다:\n",
    "\n",
    "> The goal of Polars is to provide a lightning fast DataFrame library that:\n",
    "> - Utilizes `all available cores` on your machine.\n",
    "> - Optimizes queries to `reduce unneeded work/memory allocations`. \n",
    "> - **Handles datasets much larger than your available RAM.**\n",
    "> - **A consistent and predictable API.**\n",
    "> - Adheres to a `strict schema` (data-types should be known before running the query).</br>\n",
    "\n",
    "> Polars is written in Rust which gives it C/C++ performance and allows it to fully control performance critical parts in a query engine.\n",
    "\n",
    "추가적으로 성능 측정에 대한 결과는 [polars github](https://github.com/pola-rs/polars) 에 상세히 나와있다."
   ]
  },
  {
   "cell_type": "markdown",
   "metadata": {},
   "source": [
    "### Getting Started"
   ]
  },
  {
   "cell_type": "code",
   "execution_count": 1,
   "metadata": {},
   "outputs": [],
   "source": [
    "# Import the library\n",
    "import polars as pl\n",
    "import pandas as pd"
   ]
  },
  {
   "cell_type": "code",
   "execution_count": 2,
   "metadata": {},
   "outputs": [],
   "source": [
    "# read parquet file\n",
    "df = pl.read_parquet('./data/parquet_files/train/train_deposit_1.parquet')\n",
    "pd_df = pd.read_parquet('./data/parquet_files/train/train_deposit_1.parquet')"
   ]
  },
  {
   "cell_type": "code",
   "execution_count": 3,
   "metadata": {},
   "outputs": [
    {
     "data": {
      "text/plain": [
       "OrderedDict([('case_id', Int64),\n",
       "             ('amount_416A', Float64),\n",
       "             ('contractenddate_991D', String),\n",
       "             ('num_group1', Int64),\n",
       "             ('openingdate_313D', String)])"
      ]
     },
     "execution_count": 3,
     "metadata": {},
     "output_type": "execute_result"
    }
   ],
   "source": [
    "# check data type\n",
    "# pandas -> info()\n",
    "df.schema"
   ]
  },
  {
   "cell_type": "code",
   "execution_count": 4,
   "metadata": {},
   "outputs": [
    {
     "data": {
      "text/html": [
       "<div><style>\n",
       ".dataframe > thead > tr,\n",
       ".dataframe > tbody > tr {\n",
       "  text-align: right;\n",
       "  white-space: pre-wrap;\n",
       "}\n",
       "</style>\n",
       "<small>shape: (5, 5)</small><table border=\"1\" class=\"dataframe\"><thead><tr><th>case_id</th><th>amount_416A</th><th>contractenddate_991D</th><th>num_group1</th><th>openingdate_313D</th></tr><tr><td>i64</td><td>f64</td><td>str</td><td>i64</td><td>str</td></tr></thead><tbody><tr><td>225</td><td>0.0</td><td>null</td><td>0</td><td>&quot;2016-08-16&quot;</td></tr><tr><td>331</td><td>260.374</td><td>&quot;2018-03-18&quot;</td><td>0</td><td>&quot;2015-03-19&quot;</td></tr><tr><td>358</td><td>0.0</td><td>null</td><td>0</td><td>&quot;2014-09-02&quot;</td></tr><tr><td>390</td><td>211748.53</td><td>&quot;2017-07-22&quot;</td><td>0</td><td>&quot;2014-07-23&quot;</td></tr><tr><td>390</td><td>223.68001</td><td>null</td><td>2</td><td>&quot;2016-06-08&quot;</td></tr></tbody></table></div>"
      ],
      "text/plain": [
       "shape: (5, 5)\n",
       "┌─────────┬─────────────┬──────────────────────┬────────────┬──────────────────┐\n",
       "│ case_id ┆ amount_416A ┆ contractenddate_991D ┆ num_group1 ┆ openingdate_313D │\n",
       "│ ---     ┆ ---         ┆ ---                  ┆ ---        ┆ ---              │\n",
       "│ i64     ┆ f64         ┆ str                  ┆ i64        ┆ str              │\n",
       "╞═════════╪═════════════╪══════════════════════╪════════════╪══════════════════╡\n",
       "│ 225     ┆ 0.0         ┆ null                 ┆ 0          ┆ 2016-08-16       │\n",
       "│ 331     ┆ 260.374     ┆ 2018-03-18           ┆ 0          ┆ 2015-03-19       │\n",
       "│ 358     ┆ 0.0         ┆ null                 ┆ 0          ┆ 2014-09-02       │\n",
       "│ 390     ┆ 211748.53   ┆ 2017-07-22           ┆ 0          ┆ 2014-07-23       │\n",
       "│ 390     ┆ 223.68001   ┆ null                 ┆ 2          ┆ 2016-06-08       │\n",
       "└─────────┴─────────────┴──────────────────────┴────────────┴──────────────────┘"
      ]
     },
     "execution_count": 4,
     "metadata": {},
     "output_type": "execute_result"
    }
   ],
   "source": [
    "# head, tail, describe 는 동일하게 제공된다.\n",
    "df.head()"
   ]
  },
  {
   "cell_type": "code",
   "execution_count": 13,
   "metadata": {},
   "outputs": [
    {
     "data": {
      "text/html": [
       "<div><style>\n",
       ".dataframe > thead > tr,\n",
       ".dataframe > tbody > tr {\n",
       "  text-align: right;\n",
       "  white-space: pre-wrap;\n",
       "}\n",
       "</style>\n",
       "<small>shape: (9, 6)</small><table border=\"1\" class=\"dataframe\"><thead><tr><th>statistic</th><th>case_id</th><th>amount_416A</th><th>contractenddate_991D</th><th>num_group1</th><th>openingdate_313D</th></tr><tr><td>str</td><td>f64</td><td>f64</td><td>str</td><td>f64</td><td>str</td></tr></thead><tbody><tr><td>&quot;count&quot;</td><td>145086.0</td><td>145086.0</td><td>&quot;65404&quot;</td><td>145086.0</td><td>&quot;145086&quot;</td></tr><tr><td>&quot;null_count&quot;</td><td>0.0</td><td>0.0</td><td>&quot;79682&quot;</td><td>0.0</td><td>&quot;0&quot;</td></tr><tr><td>&quot;mean&quot;</td><td>1.4662e6</td><td>8422.304482</td><td>null</td><td>0.522531</td><td>null</td></tr><tr><td>&quot;std&quot;</td><td>886528.958911</td><td>86232.120476</td><td>null</td><td>1.620954</td><td>null</td></tr><tr><td>&quot;min&quot;</td><td>225.0</td><td>-40000.0</td><td>&quot;2002-02-27&quot;</td><td>0.0</td><td>&quot;2001-11-19&quot;</td></tr><tr><td>&quot;25%&quot;</td><td>660041.0</td><td>0.0</td><td>null</td><td>0.0</td><td>null</td></tr><tr><td>&quot;50%&quot;</td><td>1.556939e6</td><td>223.658</td><td>null</td><td>0.0</td><td>null</td></tr><tr><td>&quot;75%&quot;</td><td>2.530539e6</td><td>478.34</td><td>null</td><td>1.0</td><td>null</td></tr><tr><td>&quot;max&quot;</td><td>2.703453e6</td><td>1.2213286e7</td><td>&quot;2020-03-18&quot;</td><td>64.0</td><td>&quot;2017-07-31&quot;</td></tr></tbody></table></div>"
      ],
      "text/plain": [
       "shape: (9, 6)\n",
       "┌────────────┬───────────────┬──────────────┬──────────────────────┬────────────┬──────────────────┐\n",
       "│ statistic  ┆ case_id       ┆ amount_416A  ┆ contractenddate_991D ┆ num_group1 ┆ openingdate_313D │\n",
       "│ ---        ┆ ---           ┆ ---          ┆ ---                  ┆ ---        ┆ ---              │\n",
       "│ str        ┆ f64           ┆ f64          ┆ str                  ┆ f64        ┆ str              │\n",
       "╞════════════╪═══════════════╪══════════════╪══════════════════════╪════════════╪══════════════════╡\n",
       "│ count      ┆ 145086.0      ┆ 145086.0     ┆ 65404                ┆ 145086.0   ┆ 145086           │\n",
       "│ null_count ┆ 0.0           ┆ 0.0          ┆ 79682                ┆ 0.0        ┆ 0                │\n",
       "│ mean       ┆ 1.4662e6      ┆ 8422.304482  ┆ null                 ┆ 0.522531   ┆ null             │\n",
       "│ std        ┆ 886528.958911 ┆ 86232.120476 ┆ null                 ┆ 1.620954   ┆ null             │\n",
       "│ min        ┆ 225.0         ┆ -40000.0     ┆ 2002-02-27           ┆ 0.0        ┆ 2001-11-19       │\n",
       "│ 25%        ┆ 660041.0      ┆ 0.0          ┆ null                 ┆ 0.0        ┆ null             │\n",
       "│ 50%        ┆ 1.556939e6    ┆ 223.658      ┆ null                 ┆ 0.0        ┆ null             │\n",
       "│ 75%        ┆ 2.530539e6    ┆ 478.34       ┆ null                 ┆ 1.0        ┆ null             │\n",
       "│ max        ┆ 2.703453e6    ┆ 1.2213286e7  ┆ 2020-03-18           ┆ 64.0       ┆ 2017-07-31       │\n",
       "└────────────┴───────────────┴──────────────┴──────────────────────┴────────────┴──────────────────┘"
      ]
     },
     "execution_count": 13,
     "metadata": {},
     "output_type": "execute_result"
    }
   ],
   "source": [
    "df.describe()"
   ]
  },
  {
   "cell_type": "markdown",
   "metadata": {},
   "source": [
    "polars 라이브러리의 출력에는 몇 가지 특징이 발견된다:\n",
    "- `shape` 이 출력에 포함되어 실수로 열이나 행을 drop 하는 것을 방지할 수 있다.\n",
    "- 각 column 의 이름 아래에 `data type` 을 보여준다.\n",
    "- Index numbers 가 없다.\n",
    "- 문자열 값에 `\"\"` 를 포함한다.\n",
    "\n",
    "아래의 pandas DataFrame 과 비교해보면 쉽게 알 수 있다.</br>\n",
    "개인적으로는 pandas 의 출력보다 polars 의 출력이 더 마음에 든다.\n"
   ]
  },
  {
   "cell_type": "code",
   "execution_count": 16,
   "metadata": {},
   "outputs": [
    {
     "data": {
      "text/html": [
       "<div>\n",
       "<style scoped>\n",
       "    .dataframe tbody tr th:only-of-type {\n",
       "        vertical-align: middle;\n",
       "    }\n",
       "\n",
       "    .dataframe tbody tr th {\n",
       "        vertical-align: top;\n",
       "    }\n",
       "\n",
       "    .dataframe thead th {\n",
       "        text-align: right;\n",
       "    }\n",
       "</style>\n",
       "<table border=\"1\" class=\"dataframe\">\n",
       "  <thead>\n",
       "    <tr style=\"text-align: right;\">\n",
       "      <th></th>\n",
       "      <th>case_id</th>\n",
       "      <th>amount_416A</th>\n",
       "      <th>contractenddate_991D</th>\n",
       "      <th>num_group1</th>\n",
       "      <th>openingdate_313D</th>\n",
       "    </tr>\n",
       "  </thead>\n",
       "  <tbody>\n",
       "    <tr>\n",
       "      <th>0</th>\n",
       "      <td>225</td>\n",
       "      <td>0.00000</td>\n",
       "      <td>None</td>\n",
       "      <td>0</td>\n",
       "      <td>2016-08-16</td>\n",
       "    </tr>\n",
       "    <tr>\n",
       "      <th>1</th>\n",
       "      <td>331</td>\n",
       "      <td>260.37400</td>\n",
       "      <td>2018-03-18</td>\n",
       "      <td>0</td>\n",
       "      <td>2015-03-19</td>\n",
       "    </tr>\n",
       "    <tr>\n",
       "      <th>2</th>\n",
       "      <td>358</td>\n",
       "      <td>0.00000</td>\n",
       "      <td>None</td>\n",
       "      <td>0</td>\n",
       "      <td>2014-09-02</td>\n",
       "    </tr>\n",
       "    <tr>\n",
       "      <th>3</th>\n",
       "      <td>390</td>\n",
       "      <td>211748.53000</td>\n",
       "      <td>2017-07-22</td>\n",
       "      <td>0</td>\n",
       "      <td>2014-07-23</td>\n",
       "    </tr>\n",
       "    <tr>\n",
       "      <th>4</th>\n",
       "      <td>390</td>\n",
       "      <td>223.68001</td>\n",
       "      <td>None</td>\n",
       "      <td>2</td>\n",
       "      <td>2016-06-08</td>\n",
       "    </tr>\n",
       "  </tbody>\n",
       "</table>\n",
       "</div>"
      ],
      "text/plain": [
       "   case_id   amount_416A contractenddate_991D  num_group1 openingdate_313D\n",
       "0      225       0.00000                 None           0       2016-08-16\n",
       "1      331     260.37400           2018-03-18           0       2015-03-19\n",
       "2      358       0.00000                 None           0       2014-09-02\n",
       "3      390  211748.53000           2017-07-22           0       2014-07-23\n",
       "4      390     223.68001                 None           2       2016-06-08"
      ]
     },
     "execution_count": 16,
     "metadata": {},
     "output_type": "execute_result"
    }
   ],
   "source": [
    "pd_df.head()"
   ]
  },
  {
   "cell_type": "markdown",
   "metadata": {},
   "source": [
    "### Basic concepts\n",
    "Polars 는 매우 빠른 성능의 핵심인 `Expressions` 라는 개념을 갖고 있다. 이에 해당하는 4가지 API 는 아래와 같다:\n",
    "- `select` : 원하는 columns 를 선택한다.\n",
    "- `filter` : operator 를 사용하여 rows 를 추출한다. \n",
    "- `with_columns` : 새로운 column 을 생성한다.\n",
    "- `group_by` pandas 의 **groupby** 와 비슷하지만 **index** 개념이 없다는 것에서 차이가 있다."
   ]
  },
  {
   "cell_type": "markdown",
   "metadata": {},
   "source": [
    "#### Selecting and filtering rows and columns"
   ]
  },
  {
   "cell_type": "markdown",
   "metadata": {},
   "source": [
    "##### `select`"
   ]
  },
  {
   "cell_type": "code",
   "execution_count": 22,
   "metadata": {},
   "outputs": [
    {
     "data": {
      "text/html": [
       "<div><style>\n",
       ".dataframe > thead > tr,\n",
       ".dataframe > tbody > tr {\n",
       "  text-align: right;\n",
       "  white-space: pre-wrap;\n",
       "}\n",
       "</style>\n",
       "<small>shape: (145_086, 2)</small><table border=\"1\" class=\"dataframe\"><thead><tr><th>contractenddate_991D</th><th>openingdate_313D</th></tr><tr><td>str</td><td>str</td></tr></thead><tbody><tr><td>null</td><td>&quot;2016-08-16&quot;</td></tr><tr><td>&quot;2018-03-18&quot;</td><td>&quot;2015-03-19&quot;</td></tr><tr><td>null</td><td>&quot;2014-09-02&quot;</td></tr><tr><td>&quot;2017-07-22&quot;</td><td>&quot;2014-07-23&quot;</td></tr><tr><td>null</td><td>&quot;2016-06-08&quot;</td></tr><tr><td>&quot;2017-09-30&quot;</td><td>&quot;2015-10-01&quot;</td></tr><tr><td>null</td><td>&quot;2016-07-19&quot;</td></tr><tr><td>&quot;2017-07-31&quot;</td><td>&quot;2015-08-01&quot;</td></tr><tr><td>null</td><td>&quot;2016-02-22&quot;</td></tr><tr><td>null</td><td>&quot;2015-04-27&quot;</td></tr><tr><td>&quot;2018-02-08&quot;</td><td>&quot;2015-12-10&quot;</td></tr><tr><td>null</td><td>&quot;2015-07-08&quot;</td></tr><tr><td>&hellip;</td><td>&hellip;</td></tr><tr><td>null</td><td>&quot;2015-12-11&quot;</td></tr><tr><td>null</td><td>&quot;2015-03-19&quot;</td></tr><tr><td>null</td><td>&quot;2013-09-02&quot;</td></tr><tr><td>null</td><td>&quot;2016-02-25&quot;</td></tr><tr><td>null</td><td>&quot;2015-03-19&quot;</td></tr><tr><td>null</td><td>&quot;2015-02-13&quot;</td></tr><tr><td>null</td><td>&quot;2015-08-25&quot;</td></tr><tr><td>null</td><td>&quot;2016-11-26&quot;</td></tr><tr><td>null</td><td>&quot;2014-02-14&quot;</td></tr><tr><td>null</td><td>&quot;2016-11-25&quot;</td></tr><tr><td>&quot;2018-05-28&quot;</td><td>&quot;2015-05-29&quot;</td></tr><tr><td>null</td><td>&quot;2014-08-18&quot;</td></tr></tbody></table></div>"
      ],
      "text/plain": [
       "shape: (145_086, 2)\n",
       "┌──────────────────────┬──────────────────┐\n",
       "│ contractenddate_991D ┆ openingdate_313D │\n",
       "│ ---                  ┆ ---              │\n",
       "│ str                  ┆ str              │\n",
       "╞══════════════════════╪══════════════════╡\n",
       "│ null                 ┆ 2016-08-16       │\n",
       "│ 2018-03-18           ┆ 2015-03-19       │\n",
       "│ null                 ┆ 2014-09-02       │\n",
       "│ 2017-07-22           ┆ 2014-07-23       │\n",
       "│ null                 ┆ 2016-06-08       │\n",
       "│ …                    ┆ …                │\n",
       "│ null                 ┆ 2016-11-26       │\n",
       "│ null                 ┆ 2014-02-14       │\n",
       "│ null                 ┆ 2016-11-25       │\n",
       "│ 2018-05-28           ┆ 2015-05-29       │\n",
       "│ null                 ┆ 2014-08-18       │\n",
       "└──────────────────────┴──────────────────┘"
      ]
     },
     "execution_count": 22,
     "metadata": {},
     "output_type": "execute_result"
    }
   ],
   "source": [
    "df.select(pl.col('contractenddate_991D', 'openingdate_313D'))"
   ]
  },
  {
   "cell_type": "code",
   "execution_count": 20,
   "metadata": {},
   "outputs": [
    {
     "name": "stdout",
     "output_type": "stream",
     "text": [
      "13.6 µs ± 172 ns per loop (mean ± std. dev. of 7 runs, 100,000 loops each)\n"
     ]
    }
   ],
   "source": [
    "%%timeit\n",
    "df.select(pl.col('contractenddate_991D', 'openingdate_313D'))"
   ]
  },
  {
   "cell_type": "code",
   "execution_count": 21,
   "metadata": {},
   "outputs": [
    {
     "name": "stdout",
     "output_type": "stream",
     "text": [
      "2.15 ms ± 27 µs per loop (mean ± std. dev. of 7 runs, 100 loops each)\n"
     ]
    }
   ],
   "source": [
    "%%timeit\n",
    "pd_df.loc[:, ['contractenddate_991D', 'openingdate_313D']]"
   ]
  },
  {
   "cell_type": "markdown",
   "metadata": {},
   "source": [
    "$\\rightarrow$ `select()` 평균시간이 약 160배가 차이난다."
   ]
  },
  {
   "cell_type": "markdown",
   "metadata": {},
   "source": [
    "##### `filter`"
   ]
  },
  {
   "cell_type": "code",
   "execution_count": 23,
   "metadata": {},
   "outputs": [
    {
     "data": {
      "text/html": [
       "<div><style>\n",
       ".dataframe > thead > tr,\n",
       ".dataframe > tbody > tr {\n",
       "  text-align: right;\n",
       "  white-space: pre-wrap;\n",
       "}\n",
       "</style>\n",
       "<small>shape: (72_540, 5)</small><table border=\"1\" class=\"dataframe\"><thead><tr><th>case_id</th><th>amount_416A</th><th>contractenddate_991D</th><th>num_group1</th><th>openingdate_313D</th></tr><tr><td>i64</td><td>f64</td><td>str</td><td>i64</td><td>str</td></tr></thead><tbody><tr><td>331</td><td>260.374</td><td>&quot;2018-03-18&quot;</td><td>0</td><td>&quot;2015-03-19&quot;</td></tr><tr><td>390</td><td>211748.53</td><td>&quot;2017-07-22&quot;</td><td>0</td><td>&quot;2014-07-23&quot;</td></tr><tr><td>390</td><td>223.68001</td><td>null</td><td>2</td><td>&quot;2016-06-08&quot;</td></tr><tr><td>445</td><td>23735.938</td><td>null</td><td>4</td><td>&quot;2016-07-19&quot;</td></tr><tr><td>453</td><td>90463.195</td><td>null</td><td>2</td><td>&quot;2016-03-03&quot;</td></tr><tr><td>582</td><td>827.77405</td><td>&quot;2018-10-02&quot;</td><td>0</td><td>&quot;2014-04-02&quot;</td></tr><tr><td>713</td><td>997.86</td><td>&quot;2018-04-01&quot;</td><td>0</td><td>&quot;2015-04-02&quot;</td></tr><tr><td>714</td><td>580.248</td><td>&quot;2018-05-25&quot;</td><td>0</td><td>&quot;2013-11-26&quot;</td></tr><tr><td>731</td><td>232.658</td><td>null</td><td>0</td><td>&quot;2016-04-21&quot;</td></tr><tr><td>739</td><td>61464.438</td><td>null</td><td>0</td><td>&quot;2016-08-31&quot;</td></tr><tr><td>739</td><td>56362.31</td><td>null</td><td>1</td><td>&quot;2017-01-05&quot;</td></tr><tr><td>1074</td><td>1296.3981</td><td>null</td><td>0</td><td>&quot;2016-03-15&quot;</td></tr><tr><td>&hellip;</td><td>&hellip;</td><td>&hellip;</td><td>&hellip;</td><td>&hellip;</td></tr><tr><td>2703351</td><td>224.094</td><td>&quot;2017-12-13&quot;</td><td>0</td><td>&quot;2015-12-14&quot;</td></tr><tr><td>2703352</td><td>279.816</td><td>&quot;2018-10-03&quot;</td><td>0</td><td>&quot;2014-04-03&quot;</td></tr><tr><td>2703364</td><td>272.744</td><td>&quot;2017-11-17&quot;</td><td>0</td><td>&quot;2014-11-18&quot;</td></tr><tr><td>2703367</td><td>274.81003</td><td>&quot;2017-10-28&quot;</td><td>0</td><td>&quot;2014-10-29&quot;</td></tr><tr><td>2703380</td><td>256.56003</td><td>&quot;2018-04-26&quot;</td><td>0</td><td>&quot;2015-04-27&quot;</td></tr><tr><td>2703401</td><td>80693.43</td><td>null</td><td>1</td><td>&quot;2016-07-11&quot;</td></tr><tr><td>2703416</td><td>813.726</td><td>&quot;2017-08-19&quot;</td><td>1</td><td>&quot;2015-08-20&quot;</td></tr><tr><td>2703416</td><td>528.282</td><td>&quot;2017-09-30&quot;</td><td>0</td><td>&quot;2014-10-01&quot;</td></tr><tr><td>2703426</td><td>1181.7361</td><td>&quot;2018-11-25&quot;</td><td>0</td><td>&quot;2015-11-26&quot;</td></tr><tr><td>2703427</td><td>250.76399</td><td>&quot;2018-06-25&quot;</td><td>0</td><td>&quot;2015-06-26&quot;</td></tr><tr><td>2703430</td><td>22918.006</td><td>null</td><td>8</td><td>&quot;2016-11-26&quot;</td></tr><tr><td>2703453</td><td>44916.645</td><td>&quot;2018-05-28&quot;</td><td>1</td><td>&quot;2015-05-29&quot;</td></tr></tbody></table></div>"
      ],
      "text/plain": [
       "shape: (72_540, 5)\n",
       "┌─────────┬─────────────┬──────────────────────┬────────────┬──────────────────┐\n",
       "│ case_id ┆ amount_416A ┆ contractenddate_991D ┆ num_group1 ┆ openingdate_313D │\n",
       "│ ---     ┆ ---         ┆ ---                  ┆ ---        ┆ ---              │\n",
       "│ i64     ┆ f64         ┆ str                  ┆ i64        ┆ str              │\n",
       "╞═════════╪═════════════╪══════════════════════╪════════════╪══════════════════╡\n",
       "│ 331     ┆ 260.374     ┆ 2018-03-18           ┆ 0          ┆ 2015-03-19       │\n",
       "│ 390     ┆ 211748.53   ┆ 2017-07-22           ┆ 0          ┆ 2014-07-23       │\n",
       "│ 390     ┆ 223.68001   ┆ null                 ┆ 2          ┆ 2016-06-08       │\n",
       "│ 445     ┆ 23735.938   ┆ null                 ┆ 4          ┆ 2016-07-19       │\n",
       "│ 453     ┆ 90463.195   ┆ null                 ┆ 2          ┆ 2016-03-03       │\n",
       "│ …       ┆ …           ┆ …                    ┆ …          ┆ …                │\n",
       "│ 2703416 ┆ 528.282     ┆ 2017-09-30           ┆ 0          ┆ 2014-10-01       │\n",
       "│ 2703426 ┆ 1181.7361   ┆ 2018-11-25           ┆ 0          ┆ 2015-11-26       │\n",
       "│ 2703427 ┆ 250.76399   ┆ 2018-06-25           ┆ 0          ┆ 2015-06-26       │\n",
       "│ 2703430 ┆ 22918.006   ┆ null                 ┆ 8          ┆ 2016-11-26       │\n",
       "│ 2703453 ┆ 44916.645   ┆ 2018-05-28           ┆ 1          ┆ 2015-05-29       │\n",
       "└─────────┴─────────────┴──────────────────────┴────────────┴──────────────────┘"
      ]
     },
     "execution_count": 23,
     "metadata": {},
     "output_type": "execute_result"
    }
   ],
   "source": [
    "df.filter(pl.col(\"amount_416A\") > 223.658)"
   ]
  },
  {
   "cell_type": "code",
   "execution_count": 24,
   "metadata": {},
   "outputs": [
    {
     "name": "stdout",
     "output_type": "stream",
     "text": [
      "495 µs ± 20.1 µs per loop (mean ± std. dev. of 7 runs, 1,000 loops each)\n"
     ]
    }
   ],
   "source": [
    "%%timeit\n",
    "df.filter(pl.col(\"amount_416A\") > 223.658)"
   ]
  },
  {
   "cell_type": "code",
   "execution_count": 25,
   "metadata": {},
   "outputs": [
    {
     "name": "stdout",
     "output_type": "stream",
     "text": [
      "2.51 ms ± 105 µs per loop (mean ± std. dev. of 7 runs, 100 loops each)\n"
     ]
    }
   ],
   "source": [
    "%%timeit\n",
    "pd_df.loc[pd_df['amount_416A'] > 223.658]"
   ]
  },
  {
   "cell_type": "markdown",
   "metadata": {},
   "source": [
    "#### Adding columns: `with_columns`"
   ]
  },
  {
   "cell_type": "code",
   "execution_count": 26,
   "metadata": {},
   "outputs": [
    {
     "data": {
      "text/html": [
       "<div><style>\n",
       ".dataframe > thead > tr,\n",
       ".dataframe > tbody > tr {\n",
       "  text-align: right;\n",
       "  white-space: pre-wrap;\n",
       "}\n",
       "</style>\n",
       "<small>shape: (5, 5)</small><table border=\"1\" class=\"dataframe\"><thead><tr><th>case_id</th><th>amount_416A</th><th>contractenddate_991D</th><th>num_group1</th><th>openingdate_313D</th></tr><tr><td>i64</td><td>f64</td><td>str</td><td>i64</td><td>str</td></tr></thead><tbody><tr><td>225</td><td>0.0</td><td>null</td><td>0</td><td>&quot;2016-08-16&quot;</td></tr><tr><td>331</td><td>260.374</td><td>&quot;2018-03-18&quot;</td><td>0</td><td>&quot;2015-03-19&quot;</td></tr><tr><td>358</td><td>0.0</td><td>null</td><td>0</td><td>&quot;2014-09-02&quot;</td></tr><tr><td>390</td><td>211748.53</td><td>&quot;2017-07-22&quot;</td><td>0</td><td>&quot;2014-07-23&quot;</td></tr><tr><td>390</td><td>223.68001</td><td>null</td><td>2</td><td>&quot;2016-06-08&quot;</td></tr></tbody></table></div>"
      ],
      "text/plain": [
       "shape: (5, 5)\n",
       "┌─────────┬─────────────┬──────────────────────┬────────────┬──────────────────┐\n",
       "│ case_id ┆ amount_416A ┆ contractenddate_991D ┆ num_group1 ┆ openingdate_313D │\n",
       "│ ---     ┆ ---         ┆ ---                  ┆ ---        ┆ ---              │\n",
       "│ i64     ┆ f64         ┆ str                  ┆ i64        ┆ str              │\n",
       "╞═════════╪═════════════╪══════════════════════╪════════════╪══════════════════╡\n",
       "│ 225     ┆ 0.0         ┆ null                 ┆ 0          ┆ 2016-08-16       │\n",
       "│ 331     ┆ 260.374     ┆ 2018-03-18           ┆ 0          ┆ 2015-03-19       │\n",
       "│ 358     ┆ 0.0         ┆ null                 ┆ 0          ┆ 2014-09-02       │\n",
       "│ 390     ┆ 211748.53   ┆ 2017-07-22           ┆ 0          ┆ 2014-07-23       │\n",
       "│ 390     ┆ 223.68001   ┆ null                 ┆ 2          ┆ 2016-06-08       │\n",
       "└─────────┴─────────────┴──────────────────────┴────────────┴──────────────────┘"
      ]
     },
     "execution_count": 26,
     "metadata": {},
     "output_type": "execute_result"
    }
   ],
   "source": [
    "df.head()"
   ]
  },
  {
   "cell_type": "code",
   "execution_count": 29,
   "metadata": {},
   "outputs": [
    {
     "name": "stdout",
     "output_type": "stream",
     "text": [
      "CPU times: total: 62.5 ms\n",
      "Wall time: 56 ms\n"
     ]
    },
    {
     "data": {
      "text/html": [
       "<div><style>\n",
       ".dataframe > thead > tr,\n",
       ".dataframe > tbody > tr {\n",
       "  text-align: right;\n",
       "  white-space: pre-wrap;\n",
       "}\n",
       "</style>\n",
       "<small>shape: (145_086, 6)</small><table border=\"1\" class=\"dataframe\"><thead><tr><th>case_id</th><th>amount_416A</th><th>contractenddate_991D</th><th>num_group1</th><th>openingdate_313D</th><th>zero_group_1</th></tr><tr><td>i64</td><td>f64</td><td>datetime[μs]</td><td>i64</td><td>datetime[μs]</td><td>bool</td></tr></thead><tbody><tr><td>225</td><td>0.0</td><td>null</td><td>0</td><td>2016-08-16 00:00:00</td><td>true</td></tr><tr><td>331</td><td>260.374</td><td>2018-03-18 00:00:00</td><td>0</td><td>2015-03-19 00:00:00</td><td>true</td></tr><tr><td>358</td><td>0.0</td><td>null</td><td>0</td><td>2014-09-02 00:00:00</td><td>true</td></tr><tr><td>390</td><td>211748.53</td><td>2017-07-22 00:00:00</td><td>0</td><td>2014-07-23 00:00:00</td><td>true</td></tr><tr><td>390</td><td>223.68001</td><td>null</td><td>2</td><td>2016-06-08 00:00:00</td><td>false</td></tr><tr><td>390</td><td>203.602</td><td>2017-09-30 00:00:00</td><td>1</td><td>2015-10-01 00:00:00</td><td>false</td></tr><tr><td>445</td><td>23735.938</td><td>null</td><td>4</td><td>2016-07-19 00:00:00</td><td>false</td></tr><tr><td>445</td><td>0.0</td><td>2017-07-31 00:00:00</td><td>1</td><td>2015-08-01 00:00:00</td><td>false</td></tr><tr><td>445</td><td>0.0</td><td>null</td><td>3</td><td>2016-02-22 00:00:00</td><td>false</td></tr><tr><td>445</td><td>0.0</td><td>null</td><td>0</td><td>2015-04-27 00:00:00</td><td>true</td></tr><tr><td>445</td><td>0.0</td><td>2018-02-08 00:00:00</td><td>2</td><td>2015-12-10 00:00:00</td><td>false</td></tr><tr><td>450</td><td>0.0</td><td>null</td><td>0</td><td>2015-07-08 00:00:00</td><td>true</td></tr><tr><td>&hellip;</td><td>&hellip;</td><td>&hellip;</td><td>&hellip;</td><td>&hellip;</td><td>&hellip;</td></tr><tr><td>2703430</td><td>0.0</td><td>null</td><td>6</td><td>2015-12-11 00:00:00</td><td>false</td></tr><tr><td>2703430</td><td>0.0</td><td>null</td><td>4</td><td>2015-03-19 00:00:00</td><td>false</td></tr><tr><td>2703430</td><td>0.0</td><td>null</td><td>1</td><td>2013-09-02 00:00:00</td><td>false</td></tr><tr><td>2703430</td><td>0.0</td><td>null</td><td>7</td><td>2016-02-25 00:00:00</td><td>false</td></tr><tr><td>2703430</td><td>0.0</td><td>null</td><td>3</td><td>2015-03-19 00:00:00</td><td>false</td></tr><tr><td>2703430</td><td>0.0</td><td>null</td><td>0</td><td>2015-02-13 00:00:00</td><td>true</td></tr><tr><td>2703430</td><td>0.0</td><td>null</td><td>5</td><td>2015-08-25 00:00:00</td><td>false</td></tr><tr><td>2703430</td><td>22918.006</td><td>null</td><td>8</td><td>2016-11-26 00:00:00</td><td>false</td></tr><tr><td>2703430</td><td>0.0</td><td>null</td><td>2</td><td>2014-02-14 00:00:00</td><td>false</td></tr><tr><td>2703439</td><td>219.98401</td><td>null</td><td>0</td><td>2016-11-25 00:00:00</td><td>true</td></tr><tr><td>2703453</td><td>44916.645</td><td>2018-05-28 00:00:00</td><td>1</td><td>2015-05-29 00:00:00</td><td>false</td></tr><tr><td>2703453</td><td>0.0</td><td>null</td><td>0</td><td>2014-08-18 00:00:00</td><td>true</td></tr></tbody></table></div>"
      ],
      "text/plain": [
       "shape: (145_086, 6)\n",
       "┌─────────┬─────────────┬──────────────────────┬────────────┬─────────────────────┬──────────────┐\n",
       "│ case_id ┆ amount_416A ┆ contractenddate_991D ┆ num_group1 ┆ openingdate_313D    ┆ zero_group_1 │\n",
       "│ ---     ┆ ---         ┆ ---                  ┆ ---        ┆ ---                 ┆ ---          │\n",
       "│ i64     ┆ f64         ┆ datetime[μs]         ┆ i64        ┆ datetime[μs]        ┆ bool         │\n",
       "╞═════════╪═════════════╪══════════════════════╪════════════╪═════════════════════╪══════════════╡\n",
       "│ 225     ┆ 0.0         ┆ null                 ┆ 0          ┆ 2016-08-16 00:00:00 ┆ true         │\n",
       "│ 331     ┆ 260.374     ┆ 2018-03-18 00:00:00  ┆ 0          ┆ 2015-03-19 00:00:00 ┆ true         │\n",
       "│ 358     ┆ 0.0         ┆ null                 ┆ 0          ┆ 2014-09-02 00:00:00 ┆ true         │\n",
       "│ 390     ┆ 211748.53   ┆ 2017-07-22 00:00:00  ┆ 0          ┆ 2014-07-23 00:00:00 ┆ true         │\n",
       "│ 390     ┆ 223.68001   ┆ null                 ┆ 2          ┆ 2016-06-08 00:00:00 ┆ false        │\n",
       "│ …       ┆ …           ┆ …                    ┆ …          ┆ …                   ┆ …            │\n",
       "│ 2703430 ┆ 22918.006   ┆ null                 ┆ 8          ┆ 2016-11-26 00:00:00 ┆ false        │\n",
       "│ 2703430 ┆ 0.0         ┆ null                 ┆ 2          ┆ 2014-02-14 00:00:00 ┆ false        │\n",
       "│ 2703439 ┆ 219.98401   ┆ null                 ┆ 0          ┆ 2016-11-25 00:00:00 ┆ true         │\n",
       "│ 2703453 ┆ 44916.645   ┆ 2018-05-28 00:00:00  ┆ 1          ┆ 2015-05-29 00:00:00 ┆ false        │\n",
       "│ 2703453 ┆ 0.0         ┆ null                 ┆ 0          ┆ 2014-08-18 00:00:00 ┆ true         │\n",
       "└─────────┴─────────────┴──────────────────────┴────────────┴─────────────────────┴──────────────┘"
      ]
     },
     "execution_count": 29,
     "metadata": {},
     "output_type": "execute_result"
    }
   ],
   "source": [
    "%%time\n",
    "df = df.with_columns((pl.col('num_group1') == 0).alias('zero_group_1'))\n",
    "df = df.with_columns((pl.col('contractenddate_991D').str.to_datetime()))\n",
    "df = df.with_columns((pl.col('openingdate_313D').str.to_datetime()))\n",
    "df"
   ]
  },
  {
   "cell_type": "code",
   "execution_count": 30,
   "metadata": {},
   "outputs": [
    {
     "name": "stdout",
     "output_type": "stream",
     "text": [
      "CPU times: total: 125 ms\n",
      "Wall time: 107 ms\n"
     ]
    },
    {
     "data": {
      "text/html": [
       "<div>\n",
       "<style scoped>\n",
       "    .dataframe tbody tr th:only-of-type {\n",
       "        vertical-align: middle;\n",
       "    }\n",
       "\n",
       "    .dataframe tbody tr th {\n",
       "        vertical-align: top;\n",
       "    }\n",
       "\n",
       "    .dataframe thead th {\n",
       "        text-align: right;\n",
       "    }\n",
       "</style>\n",
       "<table border=\"1\" class=\"dataframe\">\n",
       "  <thead>\n",
       "    <tr style=\"text-align: right;\">\n",
       "      <th></th>\n",
       "      <th>case_id</th>\n",
       "      <th>amount_416A</th>\n",
       "      <th>contractenddate_991D</th>\n",
       "      <th>num_group1</th>\n",
       "      <th>openingdate_313D</th>\n",
       "      <th>zero_group_1</th>\n",
       "    </tr>\n",
       "  </thead>\n",
       "  <tbody>\n",
       "    <tr>\n",
       "      <th>0</th>\n",
       "      <td>225</td>\n",
       "      <td>0.00000</td>\n",
       "      <td>NaT</td>\n",
       "      <td>0</td>\n",
       "      <td>2016-08-16</td>\n",
       "      <td>True</td>\n",
       "    </tr>\n",
       "    <tr>\n",
       "      <th>1</th>\n",
       "      <td>331</td>\n",
       "      <td>260.37400</td>\n",
       "      <td>2018-03-18</td>\n",
       "      <td>0</td>\n",
       "      <td>2015-03-19</td>\n",
       "      <td>True</td>\n",
       "    </tr>\n",
       "    <tr>\n",
       "      <th>2</th>\n",
       "      <td>358</td>\n",
       "      <td>0.00000</td>\n",
       "      <td>NaT</td>\n",
       "      <td>0</td>\n",
       "      <td>2014-09-02</td>\n",
       "      <td>True</td>\n",
       "    </tr>\n",
       "    <tr>\n",
       "      <th>3</th>\n",
       "      <td>390</td>\n",
       "      <td>211748.53000</td>\n",
       "      <td>2017-07-22</td>\n",
       "      <td>0</td>\n",
       "      <td>2014-07-23</td>\n",
       "      <td>True</td>\n",
       "    </tr>\n",
       "    <tr>\n",
       "      <th>4</th>\n",
       "      <td>390</td>\n",
       "      <td>223.68001</td>\n",
       "      <td>NaT</td>\n",
       "      <td>2</td>\n",
       "      <td>2016-06-08</td>\n",
       "      <td>False</td>\n",
       "    </tr>\n",
       "    <tr>\n",
       "      <th>...</th>\n",
       "      <td>...</td>\n",
       "      <td>...</td>\n",
       "      <td>...</td>\n",
       "      <td>...</td>\n",
       "      <td>...</td>\n",
       "      <td>...</td>\n",
       "    </tr>\n",
       "    <tr>\n",
       "      <th>145081</th>\n",
       "      <td>2703430</td>\n",
       "      <td>22918.00600</td>\n",
       "      <td>NaT</td>\n",
       "      <td>8</td>\n",
       "      <td>2016-11-26</td>\n",
       "      <td>False</td>\n",
       "    </tr>\n",
       "    <tr>\n",
       "      <th>145082</th>\n",
       "      <td>2703430</td>\n",
       "      <td>0.00000</td>\n",
       "      <td>NaT</td>\n",
       "      <td>2</td>\n",
       "      <td>2014-02-14</td>\n",
       "      <td>False</td>\n",
       "    </tr>\n",
       "    <tr>\n",
       "      <th>145083</th>\n",
       "      <td>2703439</td>\n",
       "      <td>219.98401</td>\n",
       "      <td>NaT</td>\n",
       "      <td>0</td>\n",
       "      <td>2016-11-25</td>\n",
       "      <td>True</td>\n",
       "    </tr>\n",
       "    <tr>\n",
       "      <th>145084</th>\n",
       "      <td>2703453</td>\n",
       "      <td>44916.64500</td>\n",
       "      <td>2018-05-28</td>\n",
       "      <td>1</td>\n",
       "      <td>2015-05-29</td>\n",
       "      <td>False</td>\n",
       "    </tr>\n",
       "    <tr>\n",
       "      <th>145085</th>\n",
       "      <td>2703453</td>\n",
       "      <td>0.00000</td>\n",
       "      <td>NaT</td>\n",
       "      <td>0</td>\n",
       "      <td>2014-08-18</td>\n",
       "      <td>True</td>\n",
       "    </tr>\n",
       "  </tbody>\n",
       "</table>\n",
       "<p>145086 rows × 6 columns</p>\n",
       "</div>"
      ],
      "text/plain": [
       "        case_id   amount_416A contractenddate_991D  num_group1  \\\n",
       "0           225       0.00000                  NaT           0   \n",
       "1           331     260.37400           2018-03-18           0   \n",
       "2           358       0.00000                  NaT           0   \n",
       "3           390  211748.53000           2017-07-22           0   \n",
       "4           390     223.68001                  NaT           2   \n",
       "...         ...           ...                  ...         ...   \n",
       "145081  2703430   22918.00600                  NaT           8   \n",
       "145082  2703430       0.00000                  NaT           2   \n",
       "145083  2703439     219.98401                  NaT           0   \n",
       "145084  2703453   44916.64500           2018-05-28           1   \n",
       "145085  2703453       0.00000                  NaT           0   \n",
       "\n",
       "       openingdate_313D  zero_group_1  \n",
       "0            2016-08-16          True  \n",
       "1            2015-03-19          True  \n",
       "2            2014-09-02          True  \n",
       "3            2014-07-23          True  \n",
       "4            2016-06-08         False  \n",
       "...                 ...           ...  \n",
       "145081       2016-11-26         False  \n",
       "145082       2014-02-14         False  \n",
       "145083       2016-11-25          True  \n",
       "145084       2015-05-29         False  \n",
       "145085       2014-08-18          True  \n",
       "\n",
       "[145086 rows x 6 columns]"
      ]
     },
     "execution_count": 30,
     "metadata": {},
     "output_type": "execute_result"
    }
   ],
   "source": [
    "%%time\n",
    "pd_df['zero_group_1'] = pd_df['num_group1'].apply(lambda x:x==0)\n",
    "pd_df['contractenddate_991D'] = pd.to_datetime(pd_df['contractenddate_991D'])\n",
    "pd_df['openingdate_313D'] = pd.to_datetime(pd_df['openingdate_313D'])\n",
    "pd_df"
   ]
  },
  {
   "cell_type": "markdown",
   "metadata": {},
   "source": [
    "pandas 의 `mask` or `np.where` 를 대체할 수 있는 `when` `then` `otherwise` 함수가 존재한다."
   ]
  },
  {
   "cell_type": "code",
   "execution_count": 34,
   "metadata": {},
   "outputs": [
    {
     "name": "stdout",
     "output_type": "stream",
     "text": [
      "1.56 ms ± 18.2 µs per loop (mean ± std. dev. of 7 runs, 1,000 loops each)\n"
     ]
    }
   ],
   "source": [
    "%%timeit\n",
    "df.with_columns(\n",
    "    pl.when(pl.col('num_group1') == 0)\n",
    "    .then(pl.lit('VIP'))\n",
    "    .otherwise(pl.lit('Default'))\n",
    "    .alias('Customer_category')\n",
    ")"
   ]
  },
  {
   "cell_type": "code",
   "execution_count": 35,
   "metadata": {},
   "outputs": [
    {
     "name": "stdout",
     "output_type": "stream",
     "text": [
      "832 ms ± 5.83 ms per loop (mean ± std. dev. of 7 runs, 1 loop each)\n"
     ]
    }
   ],
   "source": [
    "%%timeit\n",
    "pd_df['Customer_category'] = pd_df.apply(lambda row: 'VIP' if row['num_group1'] == 0 else 'Default', axis=1)"
   ]
  },
  {
   "cell_type": "markdown",
   "metadata": {},
   "source": [
    "##### Grouping data `group_by`"
   ]
  },
  {
   "cell_type": "code",
   "execution_count": 39,
   "metadata": {},
   "outputs": [
    {
     "data": {
      "text/html": [
       "<div><style>\n",
       ".dataframe > thead > tr,\n",
       ".dataframe > tbody > tr {\n",
       "  text-align: right;\n",
       "  white-space: pre-wrap;\n",
       "}\n",
       "</style>\n",
       "<small>shape: (40_724, 2)</small><table border=\"1\" class=\"dataframe\"><thead><tr><th>amount_416A</th><th>num_group1</th></tr><tr><td>f64</td><td>list[i64]</td></tr></thead><tbody><tr><td>7949.6</td><td>[2]</td></tr><tr><td>336.752</td><td>[0]</td></tr><tr><td>906.92804</td><td>[0]</td></tr><tr><td>605.26404</td><td>[0]</td></tr><tr><td>10269.586</td><td>[0]</td></tr><tr><td>202.106</td><td>[0, 0]</td></tr><tr><td>722.598</td><td>[0]</td></tr><tr><td>539.27</td><td>[0]</td></tr><tr><td>518.09</td><td>[1, 1, 1]</td></tr><tr><td>570.356</td><td>[0]</td></tr><tr><td>10377.962</td><td>[2]</td></tr><tr><td>10880.687</td><td>[2, 2, 2]</td></tr><tr><td>&hellip;</td><td>&hellip;</td></tr><tr><td>450.994</td><td>[0]</td></tr><tr><td>560.12006</td><td>[0, 0, … 0]</td></tr><tr><td>504.91403</td><td>[0]</td></tr><tr><td>34636.23</td><td>[1]</td></tr><tr><td>317.302</td><td>[0]</td></tr><tr><td>1051.1581</td><td>[0]</td></tr><tr><td>44598.78</td><td>[1]</td></tr><tr><td>342.424</td><td>[0, 0]</td></tr><tr><td>636.092</td><td>[2]</td></tr><tr><td>222.88402</td><td>[0, 0]</td></tr><tr><td>20010.928</td><td>[0, 0]</td></tr><tr><td>962.902</td><td>[1]</td></tr></tbody></table></div>"
      ],
      "text/plain": [
       "shape: (40_724, 2)\n",
       "┌─────────────┬────────────┐\n",
       "│ amount_416A ┆ num_group1 │\n",
       "│ ---         ┆ ---        │\n",
       "│ f64         ┆ list[i64]  │\n",
       "╞═════════════╪════════════╡\n",
       "│ 7949.6      ┆ [2]        │\n",
       "│ 336.752     ┆ [0]        │\n",
       "│ 906.92804   ┆ [0]        │\n",
       "│ 605.26404   ┆ [0]        │\n",
       "│ 10269.586   ┆ [0]        │\n",
       "│ …           ┆ …          │\n",
       "│ 342.424     ┆ [0, 0]     │\n",
       "│ 636.092     ┆ [2]        │\n",
       "│ 222.88402   ┆ [0, 0]     │\n",
       "│ 20010.928   ┆ [0, 0]     │\n",
       "│ 962.902     ┆ [1]        │\n",
       "└─────────────┴────────────┘"
      ]
     },
     "execution_count": 39,
     "metadata": {},
     "output_type": "execute_result"
    }
   ],
   "source": [
    "df.group_by(\"amount_416A\").agg(pl.col('num_group1'))"
   ]
  },
  {
   "cell_type": "markdown",
   "metadata": {},
   "source": [
    "여기까지 `polars` 의 기본적인 사용법을 알아보았다. </br>\n",
    "\n",
    "익숙하고 오래된 pandas 에 비해서 ecosystem 이 적지만, 매우 빠른 속도로 처리되는 것이 놀랍다..!\n",
    "대회를 진행하며 추가적인 사용법과 `polars` 에 대한 중요한 개념에 대한 학습을 이어나가면 좋을 것 같다.</br>"
   ]
  },
  {
   "cell_type": "markdown",
   "metadata": {},
   "source": []
  }
 ],
 "metadata": {
  "kernelspec": {
   "display_name": "base",
   "language": "python",
   "name": "python3"
  },
  "language_info": {
   "codemirror_mode": {
    "name": "ipython",
    "version": 3
   },
   "file_extension": ".py",
   "mimetype": "text/x-python",
   "name": "python",
   "nbconvert_exporter": "python",
   "pygments_lexer": "ipython3",
   "version": "3.11.5"
  }
 },
 "nbformat": 4,
 "nbformat_minor": 2
}
